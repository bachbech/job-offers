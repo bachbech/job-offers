{
  "nbformat": 4,
  "nbformat_minor": 0,
  "metadata": {
    "colab": {
      "provenance": [],
      "gpuType": "T4",
      "authorship_tag": "ABX9TyOawPIe6P6pD4mTnRb1B5cy",
      "include_colab_link": true
    },
    "kernelspec": {
      "name": "python3",
      "display_name": "Python 3"
    },
    "language_info": {
      "name": "python"
    },
    "accelerator": "GPU"
  },
  "cells": [
    {
      "cell_type": "markdown",
      "metadata": {
        "id": "view-in-github",
        "colab_type": "text"
      },
      "source": [
        "<a href=\"https://colab.research.google.com/github/bachbech/job-offers/blob/main/job_offer.ipynb\" target=\"_parent\"><img src=\"https://colab.research.google.com/assets/colab-badge.svg\" alt=\"Open In Colab\"/></a>"
      ]
    },
    {
      "cell_type": "code",
      "execution_count": 1,
      "metadata": {
        "colab": {
          "base_uri": "https://localhost:8080/"
        },
        "id": "DMo5jEXN_KEA",
        "outputId": "101a4f07-867e-4d09-af98-8a27ee99d44d"
      },
      "outputs": [
        {
          "output_type": "stream",
          "name": "stdout",
          "text": [
            "Collecting spacy_transformers\n",
            "  Downloading spacy_transformers-1.2.5-cp310-cp310-manylinux_2_17_x86_64.manylinux2014_x86_64.whl (190 kB)\n",
            "\u001b[2K     \u001b[90m━━━━━━━━━━━━━━━━━━━━━━━━━━━━━━━━━━━━━━━\u001b[0m \u001b[32m190.8/190.8 kB\u001b[0m \u001b[31m4.1 MB/s\u001b[0m eta \u001b[36m0:00:00\u001b[0m\n",
            "\u001b[?25hRequirement already satisfied: spacy<4.0.0,>=3.5.0 in /usr/local/lib/python3.10/dist-packages (from spacy_transformers) (3.6.1)\n",
            "Requirement already satisfied: numpy>=1.15.0 in /usr/local/lib/python3.10/dist-packages (from spacy_transformers) (1.23.5)\n",
            "Collecting transformers<4.31.0,>=3.4.0 (from spacy_transformers)\n",
            "  Downloading transformers-4.30.2-py3-none-any.whl (7.2 MB)\n",
            "\u001b[2K     \u001b[90m━━━━━━━━━━━━━━━━━━━━━━━━━━━━━━━━━━━━━━━━\u001b[0m \u001b[32m7.2/7.2 MB\u001b[0m \u001b[31m24.1 MB/s\u001b[0m eta \u001b[36m0:00:00\u001b[0m\n",
            "\u001b[?25hRequirement already satisfied: torch>=1.8.0 in /usr/local/lib/python3.10/dist-packages (from spacy_transformers) (2.0.1+cu118)\n",
            "Requirement already satisfied: srsly<3.0.0,>=2.4.0 in /usr/local/lib/python3.10/dist-packages (from spacy_transformers) (2.4.7)\n",
            "Collecting spacy-alignments<1.0.0,>=0.7.2 (from spacy_transformers)\n",
            "  Downloading spacy_alignments-0.9.0-cp310-cp310-manylinux_2_17_x86_64.manylinux2014_x86_64.whl (1.2 MB)\n",
            "\u001b[2K     \u001b[90m━━━━━━━━━━━━━━━━━━━━━━━━━━━━━━━━━━━━━━━━\u001b[0m \u001b[32m1.2/1.2 MB\u001b[0m \u001b[31m47.2 MB/s\u001b[0m eta \u001b[36m0:00:00\u001b[0m\n",
            "\u001b[?25hRequirement already satisfied: spacy-legacy<3.1.0,>=3.0.11 in /usr/local/lib/python3.10/dist-packages (from spacy<4.0.0,>=3.5.0->spacy_transformers) (3.0.12)\n",
            "Requirement already satisfied: spacy-loggers<2.0.0,>=1.0.0 in /usr/local/lib/python3.10/dist-packages (from spacy<4.0.0,>=3.5.0->spacy_transformers) (1.0.4)\n",
            "Requirement already satisfied: murmurhash<1.1.0,>=0.28.0 in /usr/local/lib/python3.10/dist-packages (from spacy<4.0.0,>=3.5.0->spacy_transformers) (1.0.9)\n",
            "Requirement already satisfied: cymem<2.1.0,>=2.0.2 in /usr/local/lib/python3.10/dist-packages (from spacy<4.0.0,>=3.5.0->spacy_transformers) (2.0.7)\n",
            "Requirement already satisfied: preshed<3.1.0,>=3.0.2 in /usr/local/lib/python3.10/dist-packages (from spacy<4.0.0,>=3.5.0->spacy_transformers) (3.0.8)\n",
            "Requirement already satisfied: thinc<8.2.0,>=8.1.8 in /usr/local/lib/python3.10/dist-packages (from spacy<4.0.0,>=3.5.0->spacy_transformers) (8.1.12)\n",
            "Requirement already satisfied: wasabi<1.2.0,>=0.9.1 in /usr/local/lib/python3.10/dist-packages (from spacy<4.0.0,>=3.5.0->spacy_transformers) (1.1.2)\n",
            "Requirement already satisfied: catalogue<2.1.0,>=2.0.6 in /usr/local/lib/python3.10/dist-packages (from spacy<4.0.0,>=3.5.0->spacy_transformers) (2.0.9)\n",
            "Requirement already satisfied: typer<0.10.0,>=0.3.0 in /usr/local/lib/python3.10/dist-packages (from spacy<4.0.0,>=3.5.0->spacy_transformers) (0.9.0)\n",
            "Requirement already satisfied: pathy>=0.10.0 in /usr/local/lib/python3.10/dist-packages (from spacy<4.0.0,>=3.5.0->spacy_transformers) (0.10.2)\n",
            "Requirement already satisfied: smart-open<7.0.0,>=5.2.1 in /usr/local/lib/python3.10/dist-packages (from spacy<4.0.0,>=3.5.0->spacy_transformers) (6.3.0)\n",
            "Requirement already satisfied: tqdm<5.0.0,>=4.38.0 in /usr/local/lib/python3.10/dist-packages (from spacy<4.0.0,>=3.5.0->spacy_transformers) (4.66.1)\n",
            "Requirement already satisfied: requests<3.0.0,>=2.13.0 in /usr/local/lib/python3.10/dist-packages (from spacy<4.0.0,>=3.5.0->spacy_transformers) (2.31.0)\n",
            "Requirement already satisfied: pydantic!=1.8,!=1.8.1,<3.0.0,>=1.7.4 in /usr/local/lib/python3.10/dist-packages (from spacy<4.0.0,>=3.5.0->spacy_transformers) (2.2.1)\n",
            "Requirement already satisfied: jinja2 in /usr/local/lib/python3.10/dist-packages (from spacy<4.0.0,>=3.5.0->spacy_transformers) (3.1.2)\n",
            "Requirement already satisfied: setuptools in /usr/local/lib/python3.10/dist-packages (from spacy<4.0.0,>=3.5.0->spacy_transformers) (67.7.2)\n",
            "Requirement already satisfied: packaging>=20.0 in /usr/local/lib/python3.10/dist-packages (from spacy<4.0.0,>=3.5.0->spacy_transformers) (23.1)\n",
            "Requirement already satisfied: langcodes<4.0.0,>=3.2.0 in /usr/local/lib/python3.10/dist-packages (from spacy<4.0.0,>=3.5.0->spacy_transformers) (3.3.0)\n",
            "Requirement already satisfied: filelock in /usr/local/lib/python3.10/dist-packages (from torch>=1.8.0->spacy_transformers) (3.12.2)\n",
            "Requirement already satisfied: typing-extensions in /usr/local/lib/python3.10/dist-packages (from torch>=1.8.0->spacy_transformers) (4.7.1)\n",
            "Requirement already satisfied: sympy in /usr/local/lib/python3.10/dist-packages (from torch>=1.8.0->spacy_transformers) (1.12)\n",
            "Requirement already satisfied: networkx in /usr/local/lib/python3.10/dist-packages (from torch>=1.8.0->spacy_transformers) (3.1)\n",
            "Requirement already satisfied: triton==2.0.0 in /usr/local/lib/python3.10/dist-packages (from torch>=1.8.0->spacy_transformers) (2.0.0)\n",
            "Requirement already satisfied: cmake in /usr/local/lib/python3.10/dist-packages (from triton==2.0.0->torch>=1.8.0->spacy_transformers) (3.27.2)\n",
            "Requirement already satisfied: lit in /usr/local/lib/python3.10/dist-packages (from triton==2.0.0->torch>=1.8.0->spacy_transformers) (16.0.6)\n",
            "Collecting huggingface-hub<1.0,>=0.14.1 (from transformers<4.31.0,>=3.4.0->spacy_transformers)\n",
            "  Downloading huggingface_hub-0.16.4-py3-none-any.whl (268 kB)\n",
            "\u001b[2K     \u001b[90m━━━━━━━━━━━━━━━━━━━━━━━━━━━━━━━━━━━━━━\u001b[0m \u001b[32m268.8/268.8 kB\u001b[0m \u001b[31m33.5 MB/s\u001b[0m eta \u001b[36m0:00:00\u001b[0m\n",
            "\u001b[?25hRequirement already satisfied: pyyaml>=5.1 in /usr/local/lib/python3.10/dist-packages (from transformers<4.31.0,>=3.4.0->spacy_transformers) (6.0.1)\n",
            "Requirement already satisfied: regex!=2019.12.17 in /usr/local/lib/python3.10/dist-packages (from transformers<4.31.0,>=3.4.0->spacy_transformers) (2023.6.3)\n",
            "Collecting tokenizers!=0.11.3,<0.14,>=0.11.1 (from transformers<4.31.0,>=3.4.0->spacy_transformers)\n",
            "  Downloading tokenizers-0.13.3-cp310-cp310-manylinux_2_17_x86_64.manylinux2014_x86_64.whl (7.8 MB)\n",
            "\u001b[2K     \u001b[90m━━━━━━━━━━━━━━━━━━━━━━━━━━━━━━━━━━━━━━━━\u001b[0m \u001b[32m7.8/7.8 MB\u001b[0m \u001b[31m71.6 MB/s\u001b[0m eta \u001b[36m0:00:00\u001b[0m\n",
            "\u001b[?25hCollecting safetensors>=0.3.1 (from transformers<4.31.0,>=3.4.0->spacy_transformers)\n",
            "  Downloading safetensors-0.3.3-cp310-cp310-manylinux_2_17_x86_64.manylinux2014_x86_64.whl (1.3 MB)\n",
            "\u001b[2K     \u001b[90m━━━━━━━━━━━━━━━━━━━━━━━━━━━━━━━━━━━━━━━━\u001b[0m \u001b[32m1.3/1.3 MB\u001b[0m \u001b[31m70.2 MB/s\u001b[0m eta \u001b[36m0:00:00\u001b[0m\n",
            "\u001b[?25hRequirement already satisfied: fsspec in /usr/local/lib/python3.10/dist-packages (from huggingface-hub<1.0,>=0.14.1->transformers<4.31.0,>=3.4.0->spacy_transformers) (2023.6.0)\n",
            "Requirement already satisfied: annotated-types>=0.4.0 in /usr/local/lib/python3.10/dist-packages (from pydantic!=1.8,!=1.8.1,<3.0.0,>=1.7.4->spacy<4.0.0,>=3.5.0->spacy_transformers) (0.5.0)\n",
            "Requirement already satisfied: pydantic-core==2.6.1 in /usr/local/lib/python3.10/dist-packages (from pydantic!=1.8,!=1.8.1,<3.0.0,>=1.7.4->spacy<4.0.0,>=3.5.0->spacy_transformers) (2.6.1)\n",
            "Requirement already satisfied: charset-normalizer<4,>=2 in /usr/local/lib/python3.10/dist-packages (from requests<3.0.0,>=2.13.0->spacy<4.0.0,>=3.5.0->spacy_transformers) (3.2.0)\n",
            "Requirement already satisfied: idna<4,>=2.5 in /usr/local/lib/python3.10/dist-packages (from requests<3.0.0,>=2.13.0->spacy<4.0.0,>=3.5.0->spacy_transformers) (3.4)\n",
            "Requirement already satisfied: urllib3<3,>=1.21.1 in /usr/local/lib/python3.10/dist-packages (from requests<3.0.0,>=2.13.0->spacy<4.0.0,>=3.5.0->spacy_transformers) (2.0.4)\n",
            "Requirement already satisfied: certifi>=2017.4.17 in /usr/local/lib/python3.10/dist-packages (from requests<3.0.0,>=2.13.0->spacy<4.0.0,>=3.5.0->spacy_transformers) (2023.7.22)\n",
            "Requirement already satisfied: blis<0.8.0,>=0.7.8 in /usr/local/lib/python3.10/dist-packages (from thinc<8.2.0,>=8.1.8->spacy<4.0.0,>=3.5.0->spacy_transformers) (0.7.10)\n",
            "Requirement already satisfied: confection<1.0.0,>=0.0.1 in /usr/local/lib/python3.10/dist-packages (from thinc<8.2.0,>=8.1.8->spacy<4.0.0,>=3.5.0->spacy_transformers) (0.1.1)\n",
            "Requirement already satisfied: click<9.0.0,>=7.1.1 in /usr/local/lib/python3.10/dist-packages (from typer<0.10.0,>=0.3.0->spacy<4.0.0,>=3.5.0->spacy_transformers) (8.1.7)\n",
            "Requirement already satisfied: MarkupSafe>=2.0 in /usr/local/lib/python3.10/dist-packages (from jinja2->spacy<4.0.0,>=3.5.0->spacy_transformers) (2.1.3)\n",
            "Requirement already satisfied: mpmath>=0.19 in /usr/local/lib/python3.10/dist-packages (from sympy->torch>=1.8.0->spacy_transformers) (1.3.0)\n",
            "Installing collected packages: tokenizers, safetensors, spacy-alignments, huggingface-hub, transformers, spacy_transformers\n",
            "Successfully installed huggingface-hub-0.16.4 safetensors-0.3.3 spacy-alignments-0.9.0 spacy_transformers-1.2.5 tokenizers-0.13.3 transformers-4.30.2\n"
          ]
        }
      ],
      "source": [
        "!pip install spacy_transformers"
      ]
    },
    {
      "cell_type": "code",
      "source": [
        "!pip install spacy"
      ],
      "metadata": {
        "colab": {
          "base_uri": "https://localhost:8080/"
        },
        "id": "eu0kS1vJABUc",
        "outputId": "ba59da45-2e51-4b3a-9f24-94ba4621b19f"
      },
      "execution_count": 2,
      "outputs": [
        {
          "output_type": "stream",
          "name": "stdout",
          "text": [
            "Requirement already satisfied: spacy in /usr/local/lib/python3.10/dist-packages (3.6.1)\n",
            "Requirement already satisfied: spacy-legacy<3.1.0,>=3.0.11 in /usr/local/lib/python3.10/dist-packages (from spacy) (3.0.12)\n",
            "Requirement already satisfied: spacy-loggers<2.0.0,>=1.0.0 in /usr/local/lib/python3.10/dist-packages (from spacy) (1.0.4)\n",
            "Requirement already satisfied: murmurhash<1.1.0,>=0.28.0 in /usr/local/lib/python3.10/dist-packages (from spacy) (1.0.9)\n",
            "Requirement already satisfied: cymem<2.1.0,>=2.0.2 in /usr/local/lib/python3.10/dist-packages (from spacy) (2.0.7)\n",
            "Requirement already satisfied: preshed<3.1.0,>=3.0.2 in /usr/local/lib/python3.10/dist-packages (from spacy) (3.0.8)\n",
            "Requirement already satisfied: thinc<8.2.0,>=8.1.8 in /usr/local/lib/python3.10/dist-packages (from spacy) (8.1.12)\n",
            "Requirement already satisfied: wasabi<1.2.0,>=0.9.1 in /usr/local/lib/python3.10/dist-packages (from spacy) (1.1.2)\n",
            "Requirement already satisfied: srsly<3.0.0,>=2.4.3 in /usr/local/lib/python3.10/dist-packages (from spacy) (2.4.7)\n",
            "Requirement already satisfied: catalogue<2.1.0,>=2.0.6 in /usr/local/lib/python3.10/dist-packages (from spacy) (2.0.9)\n",
            "Requirement already satisfied: typer<0.10.0,>=0.3.0 in /usr/local/lib/python3.10/dist-packages (from spacy) (0.9.0)\n",
            "Requirement already satisfied: pathy>=0.10.0 in /usr/local/lib/python3.10/dist-packages (from spacy) (0.10.2)\n",
            "Requirement already satisfied: smart-open<7.0.0,>=5.2.1 in /usr/local/lib/python3.10/dist-packages (from spacy) (6.3.0)\n",
            "Requirement already satisfied: tqdm<5.0.0,>=4.38.0 in /usr/local/lib/python3.10/dist-packages (from spacy) (4.66.1)\n",
            "Requirement already satisfied: numpy>=1.15.0 in /usr/local/lib/python3.10/dist-packages (from spacy) (1.23.5)\n",
            "Requirement already satisfied: requests<3.0.0,>=2.13.0 in /usr/local/lib/python3.10/dist-packages (from spacy) (2.31.0)\n",
            "Requirement already satisfied: pydantic!=1.8,!=1.8.1,<3.0.0,>=1.7.4 in /usr/local/lib/python3.10/dist-packages (from spacy) (2.2.1)\n",
            "Requirement already satisfied: jinja2 in /usr/local/lib/python3.10/dist-packages (from spacy) (3.1.2)\n",
            "Requirement already satisfied: setuptools in /usr/local/lib/python3.10/dist-packages (from spacy) (67.7.2)\n",
            "Requirement already satisfied: packaging>=20.0 in /usr/local/lib/python3.10/dist-packages (from spacy) (23.1)\n",
            "Requirement already satisfied: langcodes<4.0.0,>=3.2.0 in /usr/local/lib/python3.10/dist-packages (from spacy) (3.3.0)\n",
            "Requirement already satisfied: annotated-types>=0.4.0 in /usr/local/lib/python3.10/dist-packages (from pydantic!=1.8,!=1.8.1,<3.0.0,>=1.7.4->spacy) (0.5.0)\n",
            "Requirement already satisfied: pydantic-core==2.6.1 in /usr/local/lib/python3.10/dist-packages (from pydantic!=1.8,!=1.8.1,<3.0.0,>=1.7.4->spacy) (2.6.1)\n",
            "Requirement already satisfied: typing-extensions>=4.6.1 in /usr/local/lib/python3.10/dist-packages (from pydantic!=1.8,!=1.8.1,<3.0.0,>=1.7.4->spacy) (4.7.1)\n",
            "Requirement already satisfied: charset-normalizer<4,>=2 in /usr/local/lib/python3.10/dist-packages (from requests<3.0.0,>=2.13.0->spacy) (3.2.0)\n",
            "Requirement already satisfied: idna<4,>=2.5 in /usr/local/lib/python3.10/dist-packages (from requests<3.0.0,>=2.13.0->spacy) (3.4)\n",
            "Requirement already satisfied: urllib3<3,>=1.21.1 in /usr/local/lib/python3.10/dist-packages (from requests<3.0.0,>=2.13.0->spacy) (2.0.4)\n",
            "Requirement already satisfied: certifi>=2017.4.17 in /usr/local/lib/python3.10/dist-packages (from requests<3.0.0,>=2.13.0->spacy) (2023.7.22)\n",
            "Requirement already satisfied: blis<0.8.0,>=0.7.8 in /usr/local/lib/python3.10/dist-packages (from thinc<8.2.0,>=8.1.8->spacy) (0.7.10)\n",
            "Requirement already satisfied: confection<1.0.0,>=0.0.1 in /usr/local/lib/python3.10/dist-packages (from thinc<8.2.0,>=8.1.8->spacy) (0.1.1)\n",
            "Requirement already satisfied: click<9.0.0,>=7.1.1 in /usr/local/lib/python3.10/dist-packages (from typer<0.10.0,>=0.3.0->spacy) (8.1.7)\n",
            "Requirement already satisfied: MarkupSafe>=2.0 in /usr/local/lib/python3.10/dist-packages (from jinja2->spacy) (2.1.3)\n"
          ]
        }
      ]
    },
    {
      "cell_type": "code",
      "source": [
        "import spacy\n",
        "from spacy.tokens import DocBin\n",
        "from tqdm import tqdm\n",
        "import json"
      ],
      "metadata": {
        "id": "zT0nrnbzAG8I"
      },
      "execution_count": 3,
      "outputs": []
    },
    {
      "cell_type": "code",
      "source": [
        "spacy.__version__"
      ],
      "metadata": {
        "colab": {
          "base_uri": "https://localhost:8080/",
          "height": 36
        },
        "id": "IVWw1PEXALDg",
        "outputId": "9fc1d88d-5530-4d2b-aaf2-c13887b29aa7"
      },
      "execution_count": 4,
      "outputs": [
        {
          "output_type": "execute_result",
          "data": {
            "text/plain": [
              "'3.6.1'"
            ],
            "application/vnd.google.colaboratory.intrinsic+json": {
              "type": "string"
            }
          },
          "metadata": {},
          "execution_count": 4
        }
      ]
    },
    {
      "cell_type": "code",
      "source": [
        "!nvidia-smi"
      ],
      "metadata": {
        "colab": {
          "base_uri": "https://localhost:8080/"
        },
        "id": "DO7qDnsMAQ2g",
        "outputId": "3d25b312-3281-4c3e-8a9c-6554b2772b2b"
      },
      "execution_count": 5,
      "outputs": [
        {
          "output_type": "stream",
          "name": "stdout",
          "text": [
            "Tue Sep  5 17:03:36 2023       \n",
            "+-----------------------------------------------------------------------------+\n",
            "| NVIDIA-SMI 525.105.17   Driver Version: 525.105.17   CUDA Version: 12.0     |\n",
            "|-------------------------------+----------------------+----------------------+\n",
            "| GPU  Name        Persistence-M| Bus-Id        Disp.A | Volatile Uncorr. ECC |\n",
            "| Fan  Temp  Perf  Pwr:Usage/Cap|         Memory-Usage | GPU-Util  Compute M. |\n",
            "|                               |                      |               MIG M. |\n",
            "|===============================+======================+======================|\n",
            "|   0  Tesla T4            Off  | 00000000:00:04.0 Off |                    0 |\n",
            "| N/A   44C    P8     9W /  70W |      3MiB / 15360MiB |      0%      Default |\n",
            "|                               |                      |                  N/A |\n",
            "+-------------------------------+----------------------+----------------------+\n",
            "                                                                               \n",
            "+-----------------------------------------------------------------------------+\n",
            "| Processes:                                                                  |\n",
            "|  GPU   GI   CI        PID   Type   Process name                  GPU Memory |\n",
            "|        ID   ID                                                   Usage      |\n",
            "|=============================================================================|\n",
            "|  No running processes found                                                 |\n",
            "+-----------------------------------------------------------------------------+\n"
          ]
        }
      ]
    },
    {
      "cell_type": "code",
      "source": [
        "cv_data=json.load(open('/content/data/training/train_data.json','r'))"
      ],
      "metadata": {
        "id": "xkR-OYEdAWdC"
      },
      "execution_count": 6,
      "outputs": []
    },
    {
      "cell_type": "code",
      "source": [
        "len(cv_data)"
      ],
      "metadata": {
        "colab": {
          "base_uri": "https://localhost:8080/"
        },
        "id": "nirlTqWsBoHl",
        "outputId": "b2878c3e-12d5-40a4-d467-092b81502b06"
      },
      "execution_count": 7,
      "outputs": [
        {
          "output_type": "execute_result",
          "data": {
            "text/plain": [
              "22"
            ]
          },
          "metadata": {},
          "execution_count": 7
        }
      ]
    },
    {
      "cell_type": "code",
      "source": [
        "!python -m spacy init fill-config /content/data/training/base_config.cfg /content/data/training/config.cfg"
      ],
      "metadata": {
        "colab": {
          "base_uri": "https://localhost:8080/"
        },
        "id": "Va0u1w7xBrTp",
        "outputId": "f5b9436e-ce39-4414-ddf0-d45f0587253a"
      },
      "execution_count": 9,
      "outputs": [
        {
          "output_type": "stream",
          "name": "stdout",
          "text": [
            "2023-09-05 17:07:33.970143: W tensorflow/compiler/tf2tensorrt/utils/py_utils.cc:38] TF-TRT Warning: Could not find TensorRT\n",
            "\u001b[38;5;2m✔ Auto-filled config with all values\u001b[0m\n",
            "\u001b[38;5;2m✔ Saved config\u001b[0m\n",
            "/content/data/training/config.cfg\n",
            "You can now add your data and train your pipeline:\n",
            "python -m spacy train config.cfg --paths.train ./train.spacy --paths.dev ./dev.spacy\n"
          ]
        }
      ]
    },
    {
      "cell_type": "code",
      "source": [
        "cv_data"
      ],
      "metadata": {
        "colab": {
          "base_uri": "https://localhost:8080/"
        },
        "id": "ahKlmMrxBumn",
        "outputId": "c5363a41-2f02-4b84-b001-45dc45ca8800"
      },
      "execution_count": 10,
      "outputs": [
        {
          "output_type": "execute_result",
          "data": {
            "text/plain": [
              "[[\"Développement WEB FISH EYE TECHNOLOGIES · Paris, Île-de-France, France À propos de l’offre d’emploi Cette offre d’emploi provient d’un site d’offres d’emploi. En savoir plusFISH EYE TECHNOLOGIES, Cabinet de recrutement recrute un ingénieur de développement confirmé pour prendre en charge des projets de développement Web Vous aurez un rôle clé dans la conception, le développement et la maintenance de solutions Web avancées. Vous travaillerez en étroite collaboration avec l'équipe de développement et les parties prenantes pour garantir que les projets sont livrés avec succès, respectent les exigences et répondent aux normes de qualité. Responsabilités : Conception et développement Web : Concevoir, développer et mettre en œuvre des applications Web complexes, en utilisant les langages et les technologies appropriés. Assurer une architecture robuste, évolutive et sécurisée pour les applications Web. Maintenance et optimisation : Assurer la maintenance et les mises à jour régulières des applications existantes. Identifier et résoudre les problèmes de performance, de sécurité et de compatibilité. Optimiser les applications pour une expérience utilisateur optimale. Collaboration et coordination : Travailler en étroite collaboration avec les membres de l'équipe de développement, les concepteurs, les responsables de projet et les parties prenantes pour comprendre les exigences du projet, proposer des solutions techniques et assurer une communication fluide. Tests et débogage : Effectuer des tests approfondis des applications Web, identifier les bogues et les problèmes de fonctionnalité, et les résoudre de manière efficace et efficiente. Veille technologique : Rester à jour sur les dernières tendances, les bonnes pratiques et les avancées technologiques dans le domaine du développement Web. Proposer des améliorations techniques et des solutions innovantes pour les projets. Encadrement et mentorat : Fournir un encadrement technique et un mentorat aux membres plus juniors de l'équipe de développement. Partager les connaissances et les meilleures pratiques pour favoriser la croissance et le développement professionnel. Compétences requises : Solides compétences en développement Web, maîtrise des langages de programmation (comme HTML, CSS, JavaScript) et des frameworks (comme React, Angular, Vue.js). Expérience significative dans la conception et le développement de sites Web et d'applications Web complexes. Connaissance approfondie des concepts et des technologies liés au développement Web (comme les API, les bases de données, les services Web, etc.). Maîtrise des outils de développement et des environnements de développement intégrés (IDE). Capacité à résoudre les problèmes de manière autonome et à prendre des décisions techniques éclairées. Excellentes compétences en communication et en travail d'équipe. Capacité à travailler sur plusieurs projets simultanément et à respecter les délais. Atouts supplémentaires : Connaissance des bonnes pratiques en matière de sécurité et d'accessibilité Web. Expérience dans le développement d'applications mobiles ou de sites Web réactifs. Familiarité avec les méthodologies de développement agile. Si vous êtes passionné par le développement Web, doté d'une solide expertise technique et que vous souhaitez relever des défis stimulants, rejoignez notre équipe en tant que Développeur Web et contribuez à la création de solutions Web innovantes et performantes. Bonne ambiance assurée, Votre évolution, c’est aussi la nôtre professionnalisme, esprit d'équipe, veille technologique\",\n",
              "  {'entities': [[0, 38, 'titre'],\n",
              "    [18, 38, 'entreprise'],\n",
              "    [42, 46, 'ville'],\n",
              "    [56, 61, 'pays'],\n",
              "    [0, 16, 'metier'],\n",
              "    [2328, 2435, 'experience'],\n",
              "    [2167, 2206, 'skills'],\n",
              "    [2209, 2276, 'skills'],\n",
              "    [2281, 2325, 'skills']]}],\n",
              " [\"AGENT DEVELOPPEUR DE L'APPRENTISSAGE CMA Île-de-France CDI· Eaubonne, Île-de-France, France (Sur site)  À propos de l’offre d’emploi Société Rejoindre la Chambre de Métiers et de l’Artisanat d’Ile de France c’est à la fois s’investir et participer au développement de l’économie de proximité avec les artisans et concourir à la réussite des Jeunes en leur apprenant un métier. En postulant à la CMA-IDF vous évoluerez dans un environnement dynamique et innovant porté par le sens du service. Vous intégrerez un établissement public où les valeurs de transmission, d’engagement et de proximité sont mises à l’honneur. Enfin par vos compétences et votre savoir-être, vous prendrez une part active dans nos engagements en faveur de nos responsabilités sociales et environnementales. Mission Agent chargé de promouvoir et de diffuser les produits ou services développés par la chambre de métiers et de l'artisanat auprès des entreprises de son ressort et des différents publics auxquels elle s'adresse et de faciliter leur mise en œuvre. Information Conseil Accompagnement Appuis à la mise en œuvre Evaluation et suivi statistique Veille et propositions sur l'évolution du ou des produits ou services. La mission attendue sera également d'assurer le sourcing des candidats éligibles au préapprentissage sur le site de l'IMA VAL PARISIS, CERGY et Roissy Pays de France. Le dispositif du préapprentissage ' Parcours Réussite' est financé par le plan d’investissement dans les compétences (PIC), il permet à des jeunes de 16 à 29 ans révolus (sans limite d’âge pour les travailleurs handicapées), aujourd'hui insuffisamment préparés, de réussir leur entrée en apprentissage. Ce parcours d’accompagnement, pouvant aller de quelques jours à plusieurs mois, permet au jeune d'identifier et d'acquérir les compétences de base et transversales nécessaires pour réussir la formation visée et l’intégration en entreprise suite à la prépa-apprentissage. Grâce à la découverte concrète de plusieurs métiers, le jeune élabore un projet professionnel et sécurise son entrée en apprentissage. Avantages: Rémunération sur 13 mois, mutuelle santé, ticket restaurant. Date de prise de fonction 01.09.2023 Profil Bac +3 dans le domaine de la formation et de l'éducation ou du commerce, insertion professionnelle Connaissance de l'écosystème de la formation professionnelle et de l'apprentissage, votre aisance en matière relationnelle seront essentiels pour réussir dans les missions précitées. La détention du permis B est indispensable. skills:Promotion, diffusion, conseil, accompagnement, évaluation et suivi statistique, veille, sourcing de candidats éligibles au préapprentissage, projet professionnel, sécurité Web, développement agile.\",\n",
              "  {'entities': [[0, 39, 'titre'],\n",
              "    [37, 39, 'entreprise'],\n",
              "    [57, 64, 'ville'],\n",
              "    [74, 79, 'pays'],\n",
              "    [6, 16, 'metier'],\n",
              "    [55, 57, 'contrat'],\n",
              "    [2191, 2196, 'diplome'],\n",
              "    [2523, 2542, 'skills'],\n",
              "    [2686, 2697, 'skills'],\n",
              "    [2700, 2718, 'skills']]}],\n",
              " [\"Developpeur Programmateur Talend H/F CAMO Groupe · Vannes, Bretagne, France À propos de l’offre d’emploi Cette offre d’emploi provient d’un site d’offres d’emploi. En savoir plusNotre agence Camo emploi de Vannes, recrute pour son client, spécialisé dans la négoce de matériaux, un DEVELOPPEUR PROGRAMMATEUR TALEND H/F afin de renforcer ses équipes.Dans le cadre de cette mission, vous êtes amené à :Concevoir les programmes et logiciels spécifiques répondant aux besoins de l'entreprise Réaliser l'analyse technique : besoin, matériel, budget, faisabilité, délai Développer les applications Organiser des phases de test Assurer la maintenance et les mises à jour Former les utilisateurs Assurer l'assistance technique Assurer le soutien technique informatique Intervenir en assistance et réparation Issu d'un Bac +2 en informatique, vous justifiez d'une expérience réussie et significative sur ces fonctions. Doté de solides connaissances en programmation/développements, vous maîtrisez le logiciel TALEND, les requêtes SQL et le langage WINDEV ainsi que d'autres techniques inhérentes au métier. Vous êtes force de proposition, rigoureux, patient, logique et créatif.Le poste est à pourvoir du lundi au vendredi, en horaires de journée.Salaire selon profil + paniers. Cette offre vous intéresse ? Postulez dès à présent ! Vous recherchez un emploi en intérim, en CDD ou CDI ?! CAMO Emploi, acteur majeur dans le domaine du Travail Temporaire et du Recrutement, permet chaque année à plus de 13 000 collaborateurs H/F de travailler dans nos 3 000 entreprises partenaires ! Métiers : DEVELOPPEUR INFORMATIQUE Compétences : INFORMATIQUE, PROGRAMMATION\",\n",
              "  {'entities': [[0, 47, 'titre'],\n",
              "    [37, 47, 'entreprise'],\n",
              "    [51, 66, 'ville'],\n",
              "    [69, 74, 'pays'],\n",
              "    [0, 31, 'metier'],\n",
              "    [1372, 1374, 'contrat'],\n",
              "    [855, 889, 'experience'],\n",
              "    [810, 831, 'diplome'],\n",
              "    [400, 486, 'skills'],\n",
              "    [564, 590, 'skills'],\n",
              "    [688, 717, 'skills'],\n",
              "    [719, 759, 'skills']]}],\n",
              " [\"Développeur fullstack Java F/H - Informatique de gestion (H/F) Tomorrow Jobs · Nancy, Grand Est, France  À propos de l’offre d’emploi Cette offre d’emploi provient d’un site d’offres d’emploi. En savoir plusCette offre d’emploi est fournie par Pôle emploi DescriptionDescriptif du poste: Vous rejoindrez l'équipe au sein de la Direction R&D, et vous contribuerez au développement du logiciel de gestion de l'entreprise. Vous aurez comme principales missions : * Tout d'abord, la participation aux rituels Agile (sprints de 3 semaines), en étant force de proposition au sein de l'équipe ; * La participation aux phases de conception ; * La mise en place des tests unitaires ; * Enfin, le développement et la maintenance des applications en Java / Angular. ENVIRONNEMENT TECHNIQUE : Java, Spring, (Springboot, MVC, Security), JEE, Swing, Framework ORM (Hibernate), SQL, Angular, Jenkins, Docker, Kubernetes, Sonar, Git/Gitbucket, Junit, OS Linux / Windows Centos et Oracle Linux. Profil recherché: Vous possédez une première expérience réussie en développement Java, et vous avez une appétence pour le backend. (Le poste est composé à 70% de back, et 30% de front en général) * Être curieux et avoir soif d'apprentissage * Être ouvert d'esprit * Avoir le sens du partage et aimer travailler en équipe Bonus : Vous avez des connaissances sur SQL et Angular, ou vous souhaitez monter en compétences sur ces technologies. PROFIL SOUHAITÉ Expérience Expérience exigée de 1 An(s)\",\n",
              "  {'entities': [[0, 75, 'titre'],\n",
              "    [63, 75, 'entreprise'],\n",
              "    [79, 83, 'ville'],\n",
              "    [97, 102, 'pays'],\n",
              "    [0, 25, 'metier'],\n",
              "    [1465, 1471, 'experience'],\n",
              "    [739, 742, 'skills'],\n",
              "    [787, 792, 'skills'],\n",
              "    [796, 805, 'skills'],\n",
              "    [808, 810, 'skills'],\n",
              "    [813, 820, 'skills'],\n",
              "    [824, 826, 'skills'],\n",
              "    [829, 833, 'skills'],\n",
              "    [863, 865, 'skills'],\n",
              "    [868, 874, 'skills'],\n",
              "    [886, 891, 'skills'],\n",
              "    [906, 910, 'skills'],\n",
              "    [913, 915, 'skills'],\n",
              "    [964, 975, 'skills']]}],\n",
              " [\"Développeur.se back-end Java H/F Conserto · Rennes, Bretagne, France À propos de l’offre d’emploi Entreprise Conserto, un collectif à la pointe de la technologie, une communauté inédite centrée autour d’une culture Digital, du DevOps et de l’Agilité. Nos consultant.e.s sont les ambassadeur-rice-s de notre performance et de la fidélisation de nos clients. Car chez Conserto, nous sommes convaincus que la satisfaction de nos clients passe par le bien-être de nos consultant.e.s ! Pour découvrir notre univers, ainsi que nos 12 agences c'est par ici : conserto.pro Nos 80 consertien.ne.s sont des technophiles épanoui.e.s qui évoluent dans une agence familiale, portée par Eric, Marion, Julie, Maxime, Justine, Maël, Camélia & Damien : où l’accompagnement et la féérie sont les bases de notre management de proximité. Meet-up technique, apéros, défis sportifs, soirées d’agence, events IT (Devoxx, BreizhCamp, Rennes JS, Rennes Dev0ps & AgileTour), et crêpes party ponctuent ainsi notre « quotidien ». Poste Dans le cadre de nos besoins sur les technologies Java JEE, vous intégrerez une équipe full Agile sous la responsabilité d’un.e chef.f.e de projet sur des sujets riches et variés qui conviendront parfaitement à un profil technophile, curieux et désireux de progresser ! Analyse de l'existant et échanges avec les équipes métiers et techniques, Rédaction des spécifications techniques et fonctionnelles, Conception et développement du Back-end Evolution Refonte applicative POC Tests unitaires et test d’intégration, Rédaction de documentation technique Profil Nous recherchons en priorité une personne passionnée, qui a de l'autonomie sur les environnements suivants : Langages : JAVA JEE 11 Standard du web : HTML5, CSS3, RESPONSIVE DESIGN Frameworks JAVA : SPRING, SpringBoot, Spring Security Serveurs d'application : TOMCAT ET/OU JBOSS, JETTY BDD : PostgreSQL, ORACLE, MYSQL, NOSQL MONGO, CASSANDRA Webservices : SOAP ou REST Autres outils utiles : MAVEN, JENKINS, GIT / SVN, NPM ou YARN Outils de tests : SELENIUM, JUNIT, JMETER… Méthodologie de gestion de projet : SCRUM, KANBAN, SAFE Containerisation : DOCKER, KUBERNETES\",\n",
              "  {'entities': [[0, 40, 'titre'],\n",
              "    [33, 40, 'entreprise'],\n",
              "    [44, 49, 'ville'],\n",
              "    [62, 67, 'pays'],\n",
              "    [0, 10, 'metier'],\n",
              "    [1688, 1698, 'skills'],\n",
              "    [1718, 1747, 'skills'],\n",
              "    [1767, 1784, 'skills'],\n",
              "    [1860, 1920, 'skills']]}],\n",
              " [\"Développeur Front-End / Angular - H/F Atol Conseils et Développements · Gevrey-Chambertin, Bourgogne-Franche-Comté, France À propos de l’offre d’emploi Atol Conseils et Développements conçoit et développe des applications web et mobile au profit d’acteurs majeurs des secteurs publics et privés en France. Entreprise dynamique, nous avons connu ces cinq dernières années une solide croissance en passant de 80 à 200 collaborateurs, tout en nous appuyant sur des valeurs importantes comme le développement durable, l’autonomie, la collaboration et l'excellence technique. Nous pensons que l’informatique peut transformer positivement les façons de travailler, l’interaction entre les utilisateurs et la société. Les projets que nous concevons, réalisons, exploitons pour nos clients doivent être porteurs de valeur ajoutée. Nous mettons en œuvre une organisation agile et créative pour répondre à ces enjeux avec des équipes à taille humaine, fortement autonomes et engagées pour relever les challenges des projets de nos clients. Convivial, chaleureux et dynamique, notre environnement de travail s’imprègne d’une culture d’entreprise forte et bienveillante. Positionné sur des solutions open-source, nos collaborateurs sont associés à la prise de décision et aux choix techniques des projets. Ainsi, nous prônons la confiance et la prise d’initiative de nos talents. Nous leur offrons également un parcours d’intégration avec des formations animées par nos leaders techniques et un accompagnement dans la gestion de leurs carrières vers l'évolution professionnelle qu'ils auront choisie. Le Poste L’équipe Dématérialisation s’agrandit ! Nous sommes à la recherche de notre futur·e Développeur·euse Angular afin de participer à nos projets de réalisation d'applications de dématérialisation de documents et de flux pour nos entreprises clientes. L'idée est de créer avec eux des applications leurs permettant de dématérialiser leurs process pour leur faciliter le quotidien mais aussi d'améliorer leurs empreintes écologiques ! Vous interviendrez principalement sur les interfaces de nos applications, et notre équipe UX Design pourra vous conseiller et vous accompagner sur l'ergonomie, l'UX, l'UI, ... en cas de besoin. Vos missions ? En Collaboration Avec Le Responsable Technique De L’équipe Et Cinq Développeurs, Vous Serez Amené·e à Participer Aux Missions Suivantes Comprendre les besoins fonctionnels et techniques du client Proposer des solutions techniques à l'ensemble de l'équipe Intervenir sur les différentes étapes constituant le cycle de vie de l’application (conception, modélisation, développement, intégration, test/recette, maintenance corrective et évolutive, mise en production) Le poste est basé à Gevrey-Chambertin, avec la possibilité de bénéficier de 2 jours de télétravail par semaine. Il est possible de venir à Gevrey par le train (10 min depuis la gare de Dijon + 10 min de marche). Le petit + : un parcours d’intégration pour les nouveaux arrivants ! Et une formation complémentaire de la part de notre équipe de développement sur la gestion documentaire Open Source Alfresco, avec la possibilité de passer une certification si vous le souhaitez. Profil Recherché De formation supérieure en informatique ou équivalent, vous justifiez d’une expérience réussie en développement Angular. Des connaissances sur GIT seront un plus. Vous êtes passionné.e, curieux.se des évolutions technologiques et force de propositions. Vous aimez à la fois travailler en équipe et faire preuve d’autonomie et d'initiatives. En rejoignant nos équipes, vous aurez l’opportunité de : Travailler sur des applications qui font sens pour des milliers d’utilisateurs Apporter vos idées et compétences afin de participer au maintien et l'évolution de notre excellence technique Travailler en synergie avec les différents collaborateurs (développeurs, chef de projet, référent technique, architecte, manager, ...) et nos clients Évoluer en interne grâce à une politique de gestion de carrière vers des postes à dimension technique ou managériale Nous vous proposons un processus de recrutement en 2 étapes : Laetitia, chargée de recrutement, vous contactera dans un premier temps pour échanger sur votre parcours, votre projet professionnel et sur notre entreprise (projets, culture d’entreprise, expertise…)\",\n",
              "  {'entities': [[0, 68, 'titre'],\n",
              "    [38, 41, 'entreprise'],\n",
              "    [72, 88, 'ville'],\n",
              "    [116, 121, 'pays'],\n",
              "    [0, 20, 'metier'],\n",
              "    [3271, 3313, 'experience'],\n",
              "    [3198, 3247, 'diplome'],\n",
              "    [3338, 3340, 'skills'],\n",
              "    [3469, 3488, 'skills'],\n",
              "    [3782, 3803, 'skills']]}],\n",
              " [\"PROGRAMMEUR NC H/F Groupe Sovitrat - Solutions d'emploi au quotidien · France À propos de l’offre d’emploi Cette offre d’emploi provient d’un site d’offres d’emploi. En savoir plusEntreprise Le groupe Sovitrat - société de travail temporaire, opère dans tous les secteurs tels que ceux de l'industrie, du tertiaire, de la pétrochimie, du transport logistique, des télécoms ainsi que dans Le secteur du BTP. Description Du Poste Nous recherchons pour notre client de Crissey un PROGRAMMEUR MACHINES OUTILS H/F Mission d'intérim en vue d'embauche. Vos Missions fraisage programmation FAO Description Du Profil Vous êtes titulaire d'un BAC+2 technique Vous êtes motivés et avez l'esprit d'équipe Connaitre le logiciel WORK NC serait un plus Vous saurez justifier d'une expérience à un poste similaire\",\n",
              "  {'entities': [[0, 67, 'titre'],\n",
              "    [19, 33, 'entreprise'],\n",
              "    [466, 472, 'ville'],\n",
              "    [71, 76, 'pays'],\n",
              "    [0, 10, 'metier'],\n",
              "    [519, 525, 'contrat'],\n",
              "    [633, 647, 'diplome'],\n",
              "    [568, 584, 'skills'],\n",
              "    [706, 721, 'skills']]}],\n",
              " [\"Ingénieur test et validation logiciel H/F CHAUVIN ARNOUX GROUP · France  À propos de l’offre d’emploi Au sein de notre société CHAUVIN ARNOUX, spécialisée dans l’instrumentation industrielle, découvrez des équipes de personnes passionnées, engagées, et dotées d’une grande expertise métier. Vos atouts: Vous êtes autonome, rigoureux(se) et motivé(e) pour intervenir sur des projets de recherche et d’innovation industrielle. Vous êtes désireux(se) de vous investir à long terme dans une société experte à taille humaine. De formation Bac +4/5, vous êtes jeune diplômé avec une première expérience professionnelle. Vous avez des compétences au test et la validation de logiciel idéalement sur des appareil de mesure. Vous avez la connaissance des tests PC, Android, des bases de programmation et/ou Script (LUA ou PYTHON) Vous avez une bonne maitrise de l'anglais écrit. La mission ? Au sein du bureau d'étude de chauvin Arnoux, au sein de l'équipe logiciel, et en collaboration avec les autres équipes (informatique, mécanique, électronique, ...), un management de proximité et des moyens de tests importants, vous accompagnerez l'équipe sur la réalisation des tests et validations des appareils de mesure. Vous avez pour missions principales : Réalisation du test manuel du control panel (30% à 50 % de l'activité) Réaliser les tests de validation fonctionnels sur les instruments de mesure et sur les applications Android Mettre en place l'automatisation des tests Améliorer et créer les cahiers de test. Nos avantages ! CDI, Perspectives d'évolution professionnelle, Horaires flexibles du lundi au vendredi, RTT, Télétravail, Tickets restaurant, Restaurant d'entreprise, CSE, Mutuelle / Prévoyance Une rémunération adaptée à votre profil Ce qui vous attend ! Des locaux spacieux et lumineux, de la bonne humeur, des moments de partage en équipe. L’aventure au sein du groupe Chauvin Arnoux c’est : La pérennité : Une histoire familiale française depuis 5 générations. Le savoir-faire : Expert de la mesure depuis 1893, de la conception à la commercialisation, s’appuyant sur des équipes pluridisciplinaires et plus de 100 métiers. La proximité : à travers 26 sites sur tout le territoire français dont 4 sites de production en Normandie et à Lyon. L’ouverture à l’international : via nos 10 filiales et une forte présence commerciale à travers nos partenaires mondiaux. La passion pour l’innovation : avec nos 8 centres d’études, un investissement de 11% du chiffre d’affaires en la R&D et des centaines de brevets déposés. L’engagement : de nos 1000 collaborateurs, avec une grande diversité de profils et de parcours, tous impliqués au quotidien dans la cohésion d’équipe. La démarche qualité : reconnue et fondée sur une forte intégration industrielle, l’obtention des certifications ISO 9001, ISO 14001 et les qualifications ATEX, MID, MASE de certains produits, et l’accréditation COFRAC de nos centres techniques et laboratoires.\",\n",
              "  {'entities': [[0, 61, 'titre'],\n",
              "    [42, 61, 'entreprise'],\n",
              "    [65, 70, 'pays'],\n",
              "    [0, 27, 'metier'],\n",
              "    [1523, 1525, 'contrat'],\n",
              "    [554, 566, 'experience'],\n",
              "    [534, 541, 'diplome'],\n",
              "    [746, 753, 'skills'],\n",
              "    [756, 762, 'skills'],\n",
              "    [765, 790, 'skills'],\n",
              "    [798, 819, 'skills']]}],\n",
              " [\"Ingénieur Logiciel Supervision Soletanche Freyssinet · Rueil-Malmaison, Île-de-France, France À propos de l’offre d’emploi Dans le cadre d’un renouvellement hardware et software de nos produits de supervision de forages au sein de la Direction Technique, nous recherchons un ingénieur logiciel pour compléter une équipe de développement. Ces supervisions sont embarquées dans nos engins de chantiers et interfacées avec de nombreux capteurs. Nous visons des solutions modernes, performantes et ambitieuses qui nous permettront d’adresser une grande diversité de techniques et procédés géotechniques qui constituent notre métier. Par ailleurs, ces supervisions et machines connectées s’inscrivent complètement dans notre écosystème Big Data. Les contextes sont variés, pour des chantiers de forages en plein centre-ville, en aéroport semi-maritime, en plein désert, ou en barrage hydraulique.\\n\\nNous vous proposons de rejoindre notre Service Ingénierie Systèmes & Données, au poste de Ingénieur concepteur-développeur Logiciel Supervision.\\n\\nDans le cadre de ce poste, vous faites partie de l’équipe Supervision et participez aux activités suivantes :\\n\\n Compréhension évolution du cahier des charges avec le demandeur,\\n Benchmark de matériels en relation avec les fournisseurs,\\n Choix des solutions techniques en accord avec l’équipe,\\n Conception et développement logiciel des solutions retenues,\\n Test et validation en bureau, en atelier, sur chantier,\\n Accompagnement des déploiements sur chantiers,\\n Apporter du support aux équipes utilisatrices,\\n Analyser et corriger les faits techniques provenant des projets, chantiers et des équipes internes,\\n Contribuer à l'esprit d'équipe en étant membre de l’équipe Agile/Scrum – potentiel Scrum Master,\\n Contribuer à l'amélioration de nos Systèmes R&D via l'apport d'idées nouvelles.\\n\\nCompétences recherchées\\n\\n Conception orientée objet (SysML, UML),\\n Programmation orientée objet en C++, Java,\\n Développement front-end pour interfaces utilisateurs (pas obligatoire),\\n Connaissance du framework Qt serait appréciée mais pas obligatoire,\\n Anglais oral et écrit niveau débutant.\\n De formation ingénieur ou Bac+5 en Informatique et/ou Génie Logiciel et/ou Systèmes d'information,\\n Une petite expérience avec les technologies citées serait un plus,\\n Les candidatures de profils bac+2 avec de solides expériences et motivations seront aussi examinées.\\n\\nLe poste est basé au siège de Rueil Malmaison (92) ou sur notre site de Montereau (77), à discuter en fonction de vos préférences.\\n\\nDu télétravail est inclus dans le contrat de travail.\",\n",
              "  {'entities': [[0, 51, 'titre'],\n",
              "    [31, 51, 'entreprise'],\n",
              "    [55, 69, 'ville'],\n",
              "    [79, 84, 'pays'],\n",
              "    [0, 17, 'metier'],\n",
              "    [2331, 2349, 'experience'],\n",
              "    [2317, 2321, 'diplome'],\n",
              "    [1854, 1891, 'skills'],\n",
              "    [1895, 1929, 'skills'],\n",
              "    [1932, 1935, 'skills'],\n",
              "    [1939, 1961, 'skills'],\n",
              "    [2012, 2039, 'skills']]}],\n",
              " [\"Analyste développeur (H/F) Eotim · Paris, Île-de-France, France (Hybride) À propos de l’offre d’emploi Depuis 2001, Eotim est le leader du recrutement spécialisé en informatique et en marque employeur. Nous accompagnons nos partenaires et nos clients dans leur croissance avec une approche 100% sur-mesure. En parallèle et avec notre équipe de communication / marketing RH, nous développons des solutions de gestion de la marque employeur. Présents en France, à Paris et Caen, et à Lisbonne au Portugal, nous entretenons également des liens avec les États-Unis, le Royaume-Uni et l''Australie pour accompagner nos clients internationaux. Nous cultivons un esprit familial et une forte cohésion d''équipe au sein de notre entreprise. De ce fait, nous attachons beaucoup d''importance à l''investissement humain, à l''humilité et veillons à effectuer un suivi personnalisé et de qualité durant chacune de nos missions. À PROPOS : Réel accompagnateur des personnes en difficultés, notre client s''investit auprès de l''accès au logement pour les publics qui en sont éloignés. Les valeurs sociales et humaines sont centrales pour eux. Ils interviennent dans des environnements sociaux aux problématiques complexes afin de proposer des solutions de logement. Ils ont donc besoin d''un(e) analyste développeur PHP afin d''assurer l''évolution et la maintenance des applications métiers. LE POSTE : Au sein du Po^le Etudes, vous serez charge´ de la maintenance des applications me´tiers et contribuerez sous la responsabilite´ du chef de projet, a` certaines phases des projets de la direction telle que : Cadrage des projets Conception, de´veloppement et documentation des solutions Mise en qualite´ des solutions (recettes techniques et fonctionnelles, support aux recettes utilisateurs) De´ploiement des solutions (mises en production, re´daction de support de formation, suivi post mise en production et transfert aux e´quipes d''exploitation et de support de niveau 1 et 2). Une e´volution vers un poste de Chef de Projet informatique est possible Avantages liés au poste : Primes Épargne salariale VOTRE PROFIL : Vous justifiez au minimum d''une expe´rience re´ussie de 3 ans en de´veloppement. Vous e^tes rigoureux(se), organise´(e) et posse´dez un excellent sens de l''observation et de l''analyse. Vous partagez les valeurs humaines et sociales de notre client et savez communique´ avec les e´quipes. STACK TECHNIQUE : Vous maitrisez SQL et PHP Vous maitrisez ou e^tes capable d''apprendre rapidement des langages de de´veloppement, frameworks et outils (Symfony/ Doctrine, ReactJS, Jenkins, Git, MariaDB, Talend). 17112185-55584\",\n",
              "  {'entities': [[0, 31, 'titre'],\n",
              "    [27, 31, 'entreprise'],\n",
              "    [35, 39, 'ville'],\n",
              "    [49, 54, 'pays'],\n",
              "    [0, 19, 'metier'],\n",
              "    [2169, 2173, 'experience'],\n",
              "    [2557, 2573, 'skills'],\n",
              "    [2576, 2582, 'skills'],\n",
              "    [2585, 2591, 'skills'],\n",
              "    [2594, 2596, 'skills'],\n",
              "    [2608, 2613, 'skills']]}],\n",
              " [\"Ingénieur Logiciel R&D (FULL REMOTE possible) - H/F Aide RH - Cabinet de recrutement · Plailly, Hauts-de-France, France À propos de l’offre d’emploi Aide RH est un cabinet de recrutement déployé au niveau national, dans de nombreux secteurs d''activités. Nous accompagnons nos client.e.s partenaires dans la recherche de profils et conseillons nos candidat.e.s dans la concrétisation de leur projet professionnel. CDI, CDD, freelance ... Notre cabinet propose des aventures professionnelles adaptées aux perspectives et aux ambitions de chacun. Le Poste Notre client spécialisé dans les technologies et les produits de l''acoustique et du son, recherche son ou sa prochain.e ingénieur.e en développement Logiciel ! Rattaché.e au directeur R&D, vous aurez pour principales missions : Développer des logiciels pour les clients Développer des logiciels pour une utilisation interne à l''entreprise Proposer des solutions technologiques innovantes Spécifier les interfaces graphiques des logiciels et des matériels électroniques Proposer aux clients des solutions logicielles à la fois performantes et élégantes Optimiser les délais de développement Veiller à la pertinence des solutions logicielles Assurer la bonne maintenance des solutions logicielles Profil Recherché De formation BAC+5, vous disposez d’une expérience réelle d’un à deux ans sur un poste similaire (développement logiciel, recherche). Vous avez de larges connaissances en programmation objet pour minimiser les erreurs et sécuriser les développements, vous avez également des connaissances de techniques d’archivage de code et de codage collaboratif ainsi que sur les matériels et les solutions électroniques. Vous maîtrisez langage de programmation C++ et de l’environnement Qt, le workflow et des langages de programmation web, le GIT, la Planification, les systèmes de vérification et de validation du code. Vous avez des compétences techniques pointues dans le domaine du son, et dans un logiciel d’infographie (par exemple Photoshop). Vous maîtrisez l’anglais écrit et oral. Vous avez une grande rigueur professionnelle, et une réelle autonomie. Vous êtes de nature perfectionniste et avez des qualités humaines et relationnelles !\",\n",
              "  {'entities': [[0, 44, 'titre'],\n",
              "    [52, 58, 'entreprise'],\n",
              "    [87, 93, 'ville'],\n",
              "    [113, 118, 'pays'],\n",
              "    [0, 17, 'metier'],\n",
              "    [1281, 1285, 'diplome'],\n",
              "    [1333, 1340, 'experience'],\n",
              "    [1717, 1719, 'skills'],\n",
              "    [1743, 1744, 'skills'],\n",
              "    [1800, 1802, 'skills']]}],\n",
              " [\"Ingénieur Logiciel Embarqué F/H (H/F) SANDEN MANUFACTURING EUROPE · Ille-et-Vilaine, Bretagne, France  À propos de l’offre d’emploi Cette offre d’emploi provient d’un site d’offres d’emploi. En savoir plusCette offre d’emploi est fournie par Pôle emploi\\n\\n\\nDescriptionNous recherchons actuellement pour notre Centre Technique, dans le cadre d''un CDI, un Ingénieur Logiciel Embarqué (F/H). MISSIONS Au sein du Centre Technique France (TCF), vous intégrerez l''équipe en charge du développement des compresseurs électriques. Vos missions principales seront les suivantes : - Contribuer à la mise en œuvre et au respect des processus de développement suivant les critères du modèle A-SPICE - Participer aux phases de spécification et de définition de l''architecture logicielle - Réaliser la conception du logiciel de base et applicatif en conformité avec l''architecture AUTOSAR - Réaliser l''intégration du logiciel et assurer la maintenance corrective et évolutive - Définir les outils et plans de validation liés à l''intégration du logiciel - Contrôler les résultats obtenus et valider la conformité des logiciels aux exigences - Rédaction de la documentation technique et des rapports de tests PROFIL Vous justifiez d''une première expérience dans le développement et le test de logiciel embarqué, idéalement dans le domaine automobile. Vous avez des compétences en programmation C temps réel embarqué sur des microcontrôleurs 32bits (Ex. RH850) et une connaissance de l''architecture AUTOSAR. Vous connaissez les protocoles automobile LIN et CAN, ainsi que les standards de diagnostics associés. Vous évoluerez dans l''environnement technique suivant : - Développement en langage C - Environnement de génie logiciel : Multi GHS, SVN, Polarion, Jira - Outils de simulation de diagnostic LIN/CAN : CANoe, CANape - Architecture logicielle AUTOSAR - MCU Renesas RH850 Vous disposez également de savoirs être tels que : un bon relationnel, un esprit critique, de l''autonomie et de la polyvalence. Compte tenu de l''environnement international de notre société, un bon niveau d''anglais est nécessaire.\\n\\n\\nPROFIL SOUHAITÉ\\n\\n\\nExpérience\\n\\n\\n12 mois\\n\\n\\nSavoirs et savoir-faire\\n\\n\\nÉlaborer des propositions techniques\\nIdentifier les contraintes d''un projet\\nDéterminer des axes d''évolution technologiques\\nDéfinir la stratégie financière d''une structure\\nConcevoir et gérer un projet\\n\\n\\nSavoir-être professionnels\\n\\n\\nTravailler en équipe\\nFaire preuve de rigueur et de précision\\n\\n\\nLangue\\n\\n\\nAnglais\",\n",
              "  {'entities': [[0, 64, 'titre'],\n",
              "    [38, 57, 'entreprise'],\n",
              "    [85, 92, 'ville'],\n",
              "    [95, 100, 'pays'],\n",
              "    [0, 26, 'metier'],\n",
              "    [346, 348, 'contrat'],\n",
              "    [2135, 2141, 'experience'],\n",
              "    [1369, 1383, 'skills'],\n",
              "    [1722, 1730, 'skills'],\n",
              "    [1733, 1735, 'skills'],\n",
              "    [1737, 1745, 'skills'],\n",
              "    [1800, 1802, 'skills']]}],\n",
              " [\"Ingénieur Test et Validation Logiciel - Client Final H/F BlueDocker · Saclay, Île-de-France, France À propos de l’offre d’emploi Cette offre d’emploi provient d’un site d’offres d’emploi. En savoir plusEn bref\\n\\nSaclay\\n\\nCDI\\n\\n01/06/2023\\n\\nC C++\\n\\nC++\\n\\nClient final\\n\\nInstrumentation\\n\\nLabview\\n\\nOptique\\n\\nPython\\n\\nSociété\\n\\nCelle-ci imagine, conçoit et commercialise des systèmes de mesure optique, ainsi que des bancs de métrologie, afin de permettre à leurs clients de diagnostiquer des faisceaux lumineux. Leurs solutions sont applicables à divers secteurs d''activité comme les véhicules autonomes, le spatial ou encore la défense. A ce jour, 85% de leur CA est réalisé à l''international.\\n\\nDans le cadre de la construction de l''équipe test et validation logiciel, le responsable de l''équipe software recherche un ingénieur spécialisé dans le développement et la validation de tests logiciels afin de construire et mettre en place les futures procédures et plans en matière de test et validation.\\n\\nPoste\\n\\nDans le but de fiabiliser les développements et logiciels développés, en collaboration avec les développeurs, vous définirez et serez le garant de la mise en place des procédures en matière de tests et de validation logiciel.\\n\\nVous Intervenez Sur Les Projets Suivants\\n Définition des spécifications et mise en place de moyens de test fiables et robustes\\n Vous êtes garant de la résolution des bugs, et autres blocages, pouvant intervenir auprès des différents utilisateurs internes et externes (clients, R&D interne)\\n Définition des actions prioritaires en matière de correction logiciel\\n Mise en place et gestion des différentes phases de test dans le cadre de leur intégration jusqu''à leur validation\\n Vous rédigerez les rapports de tests\\nPourquoi rejoindre cette entreprise ?\\n Vous prendrez la responsabilité et construirez le pôle test et validation logiciel\\n Rejoignez une équipe stratégique, indispensable au sein de la société, qui fiabilise l''ensemble des logiciels et des développements pour l''interne comme pour vos clients\\n Rejoignez une société avec un management bienveillant et proche de ses collaborateurs, favorisant la communication et la prise d''initiative\\nProfil recherché\\n Vous avez 1 an d''expérience minimum dans le développement et la validation de tests logiciels (hors stage et alternance)\\n Des compétences en développement C/C++ ou Labview sont un plus\\n Une expérience en développement logiciel pilotant un instrument est idéale\\nCompléments\\n Lieu : Saclay\\n Contrat : CDI\\n Salaire : Jusqu''à 50K€ selon profil\\nSi votre profil correspond, nous reviendrons vers vous dans les 7 jours à compter de la date d''envoi.\",\n",
              "  {'entities': [[0, 66, 'titre'],\n",
              "    [57, 66, 'entreprise'],\n",
              "    [70, 75, 'ville'],\n",
              "    [85, 90, 'pays'],\n",
              "    [0, 36, 'metier'],\n",
              "    [2498, 2500, 'contrat'],\n",
              "    [2208, 2211, 'experience'],\n",
              "    [243, 245, 'skills'],\n",
              "    [262, 276, 'skills'],\n",
              "    [297, 302, 'skills'],\n",
              "    [2363, 2369, 'skills']]}],\n",
              " [\"Ingénieur logiciel H/F Robert Walters · Paris, Île-de-France, France  À propos de l’offre d’emploi L''ingénieur.e logiciel H/F aura pour mission de concevoir, développer les logiciels embarqués sur tout le cycle de vie du projet. Le poste se situe au sud de Paris.\\n\\nCette entreprise d’envergure internationale, est un acteur majeur dans son domaine de la communication aéronautique.\\n\\nL''ingénieur.e Logiciel H/F Aura Pour Principales Missions\\nProgrammer en langage C pour développer des logiciels embarqués \\nConcevoir l''architecture logicielle\\nRédiger et suivre des documents du cycle de vie logiciel\\nTracer les exigences, relire le code, gérer les configurations\\nAppliquer les processus de développement logiciel\\nLe poste se situe à Paris.\\n\\nL''ingénieur.e logiciel H/F, de formation ingénieur possède à minima 3 ans d''expérience dans le développement de logiciel embarqué (langage C, micro processeurs). La connaissance du cycle en V (exigences, traçabilité, processus) est un plus. L''anglais technique est requis.\",\n",
              "  {'entities': [[0, 36, 'titre'],\n",
              "    [23, 36, 'entreprise'],\n",
              "    [40, 44, 'ville'],\n",
              "    [62, 67, 'pays'],\n",
              "    [0, 17, 'metier'],\n",
              "    [812, 816, 'experience'],\n",
              "    [775, 793, 'diplome'],\n",
              "    [876, 884, 'skills'],\n",
              "    [989, 995, 'skills'],\n",
              "    [887, 903, 'skills']]}],\n",
              " [\"Développeur Go/Python Junior Synanto · Aix-en-Provence, Provence-Alpes-Côte d’Azur, France À propos de l’offre d’emploi Synanto (anciennement 2S2I) est une ESN à taille humaine avec un management de proximité, une culture et des valeurs qui inscrivent nos collaborateurs au cœur de son développement. En effet, la relation avec nos consultants est un des leviers de notre proposition de valeur nous permettant d''instaurer une relation durable, tout en les accompagnant à devenir des experts.\\n\\nEn ce sens, intégrer Synanto - devenir un Talent ∑ - c''est l''assurance de se voir proposer des missions stimulantes et d''évoluer en ayant un véritable plan de carrière.\\n\\nNos secteurs d''intervention sont variés (Industrie, Energie, Transports, Distribution, Edition de logiciels ou Secteur public), avec une expertise qui reste dominante dans le secteur Banque, Finance et Assurance.\\n\\nAujourd''hui, Synanto, Ce Sont\\n\\n 4 agences en France (Paris, Lyon, Aix-en-Provence et Montpellier) et 2 à l''étranger (Luxembourg et Tunisie)\\n 150 collaborateurs\\n 1 spécialisation dans le domaine Banque | Finance | Assurance\\n 1 promesse : Vos Projets, Nos Talents, Une Rencontre\\n 5 valeurs fortes : Synergie, Entraide, Transparence, Diversité, Optimisme\\n\\nDe nombreux talents ont déjà rejoint notre équipe, pour une vision différente, des opportunités de carrière et des projets innovants. Pourquoi pas vous !?... Venez écrire l''histoire d''une entreprise, experte des SI à dimension humaine.\\n\\nLe Poste\\n\\nRattaché.e à la direction des études composée d''une trentaine de développeurs, votre rôle principal sera de mettre en œuvre nos projets applicatifs ou de les modifier à travers différentes étapes que seront l''analyse, la qualification, la conception, la programmation, les tests et la maintenance.\\n\\nVous Prendrez En Charge Les Missions Suivantes\\n\\n Participer aux spécifications fonctionnelles\\n Participer à la conception et au développement de logiciels,\\n Faire évoluer sans cesse nos solutions pour répondre aux besoins clients,\\n Contrôler la qualité des applications produites\\n\\nLa liste est non-exhaustive.\\n\\nProfil\\n\\nProfil recherché:\\n\\nDe formation informatique, vous justifierez d''une première expérience réussie sur des technologies telles que GO et Python.\\n\\nVous êtes passionné par le développement et les nouvelles technologies. Curieux et rigoureux alors cette offre est faite pour vous !\\n\\nN''hésitez plus postulez !\",\n",
              "  {'entities': [[0, 52, 'titre'],\n",
              "    [29, 35, 'entreprise'],\n",
              "    [56, 69, 'ville'],\n",
              "    [84, 89, 'pays'],\n",
              "    [0, 20, 'metier'],\n",
              "    [2176, 2247, 'experience'],\n",
              "    [12, 13, 'skills'],\n",
              "    [15, 20, 'skills']]}],\n",
              " [\"Programmeur (CN) H/F Nancy · France À propos de l’offre d’emploi Cette offre d’emploi provient d’un site d’offres d’emploi. En savoir plusEntreprise\\n\\nRecrutement en intérim, CDD et CDI de profils principalement CAP à Bac+2 dans les domaines du BTP du Transport & de la Logistique, de l''Industrie & de la Maintenance et du Tertiaire & des Services\\n\\nDescription Du Poste\\n\\nAquila RH Nancy, acteur du recrutement en Intérim, CDD, CDI, recherche pour l''un de ses clients un Opérateur sur commande numérique (H/F).\\n\\nVos missions\\n\\nVous êtes chargé de l''usinage de pièces mécaniques sur tour à commandes numériques.\\n\\nVos Missions Sont Diverses\\n\\nLire des documents techniques,\\nProgrammer les machines,\\nInstaller et régler les outils,\\nLancer la fabrication,\\nContrôler les pièces et corriger les pièces défectueuses.\\n\\nDescription Du Profil\\n\\nProfil recherché\\n\\nMotivation, curiosité, aptitude à acquérir de nouvelles compétences,\\n\\nConnaissance du milieu de la mécanique,\\n\\nCapacité de concentration, prise d''initiative, disponibilité.\\n\\nInformations complémentaires\\n\\nType de contrat : CDI\\n\\nTemps de travail : Temps plein\",\n",
              "  {'entities': [[0, 25, 'titre'],\n",
              "    [371, 379, 'entreprise'],\n",
              "    [21, 25, 'ville'],\n",
              "    [29, 34, 'pays'],\n",
              "    [0, 10, 'metier'],\n",
              "    [1074, 1076, 'contrat'],\n",
              "    [217, 221, 'diplome'],\n",
              "    [304, 315, 'skills']]}],\n",
              " [\"Ingénieur logiciel (H/F) ACD · Tours, Centre-Val de Loire, France À propos de l’offre d’emploi Cette offre d’emploi provient d’un site d’offres d’emploi. En savoir plusCette offre d’emploi est fournie par Pôle emploi \\n\\nDescriptionLe poste : Nous recherchons de nouveaux talents pour intégrer notre département R&D, afin de faire évoluer les fonctionnalités logicielles de notre gamme complète et intégrée en matière de gestion, comptabilité et paie. Vos missions sont : - Etudes techniques et participation à la rédaction des cahiers des charges, - Développement de nouvelles fonctionnalités, - Maintenance applicative, - Veille technologique, - Tests et mise en exploitation. Vous êtes le candidat idéal si : - Vous disposez d''un diplôme Bac +2 minimum dans le développement et idéalement d''une première expérience en programmation. - Passionné(e), vous aimez travailler sur des projets innovants, nécessitant une veille permanente, de l''implication et des initiatives. - Vous maitrisez la programmation orientée objet n-tiers et vous avez des connaissances en C#, C++, My SQL, WinDev ou Delphi, javascript, HTML, CSS. Les + du poste : - Participation équivalente à un 13ème mois avec plan de placement type PEE/PERCO - Ticket restaurant - Prime transport - Charte télétravail (1 à jour 3 de télétravail) - Locaux lumineux, modernes et conviviaux - Parking gratuit - CSE (carte cadeau, carte culture, panier garnie, réductions diverses.) #indeedspo\\n\\nPROFIL SOUHAITÉ\\n\\nExpérience\\n\\nExpérience exigée de 1 An(s)\\n\\nLangue\\n\\nFrançais\",\n",
              "  {'entities': [[0, 27, 'titre'],\n",
              "    [25, 27, 'entreprise'],\n",
              "    [59, 64, 'pays'],\n",
              "    [52, 56, 'ville'],\n",
              "    [0, 17, 'metier'],\n",
              "    [1523, 1525, 'contrat'],\n",
              "    [554, 566, 'experience'],\n",
              "    [534, 541, 'diplome'],\n",
              "    [746, 753, 'skills'],\n",
              "    [756, 762, 'skills'],\n",
              "    [765, 790, 'skills'],\n",
              "    [798, 819, 'skills']]}],\n",
              " [\"Ingénieur / Ingénieure développement logiciel informatique (H/F) Comptalents · Paris, Île-de-France, France À propos de l’offre d’emploi Cette offre d’emploi provient d’un site d’offres d’emploi. En savoir plusCette offre d’emploi est fournie par Pôle emploi \\n\\nDescriptionComptalents, cabinet de recrutement spécialisé sur les métiers de la comptabilité et de la finance, met à profit son expertise pour vous transmettre des dossiers de qualité sur les profils ciblés (expert comptable, aide comptable, controleur de gestion, comptable fournisseur, comptable client, comptable tresorerie, aide comptable, secretaire comptable, chargé de recouvrement, auditeur interne, gestionnaire comptable et financier...). Nous travaillons au succès et sans exclusivité, alors n''attendez plus pour nous confier vos besoins. Comptalents, Cabinet de Recrutement dédié aux métiers Comptables et Financiers vous accompagne dans la réalisation de vos projets professionnels en vous proposant des offres ciblées correspondant à votre profil et vos attentes. Nos consultants sont animés par le souhait d''une collaboration satisfaisante sur le long terme, gage d''un recrutement réussi. Nous recherchons pour notre client, une start-up, un(e) Analyste Comptable en CDI. Le poste est à pourvoir à Paris (13). Votre mission principale est d''assurer le lien entre les différentes parties prenantes (clients, analyste comptable, manager, développeurs, etc.) dans le but d''améliorer nos services. Vos missions : Accompagner les clients sur un plan comptable Aider les AM et AE à mieux comprendre la comptabilité Proposer des solutions à l''équipe Produit lors de nos réunions mensuelles afin d''améliorer/faciliter ton travail au quotidien Remonter les erreurs de saisie aux OPS chaque mois en tenant à jour un fichier dédié Répondre aux mails reçus sur l''adresse du support Votre profil : Vous disposez d''une formation en comptabilité type BAC+2 Vous avez une expérience d''au moins 3ans en comptabilité et de préférence en cabinet comptable Vous maîtrisez l''outil bureautique EXCEL Vous aimez travailler en équipe et communiquer Rémunération : 33/36k EUR selon profil et expérience. Avantages : mutuelle, Pass Navigo, TR, télétravail, etc.\\n\\nPROFIL SOUHAITÉ\\n\\nExpérience\\n\\nExpérience exigée de 2 An(s)\",\n",
              "  {'entities': [[0, 75, 'titre'],\n",
              "    [65, 75, 'entreprise'],\n",
              "    [93, 98, 'pays'],\n",
              "    [79, 83, 'ville'],\n",
              "    [0, 8, 'metier'],\n",
              "    [1246, 1248, 'contrat'],\n",
              "    [2274, 2280, 'experience'],\n",
              "    [1921, 1925, 'diplome'],\n",
              "    [2059, 2063, 'skills']]}],\n",
              " [\"Data Architect (H/F) Mydral · Paris, Île-de-France, France À propos de l’offre d’emploi Qui sommes-nous ?\\n\\nMydral est une entreprise qui aide ses clients à mieux comprendre leurs données. Nos clients viennent de divers secteurs d''activités, par exemple Logistique, Transport, Banque, Assurance, etc.\\nOn les accompagne sur toutes leurs problématiques métiers avec une expertise sur la compréhension et l''automatisation des processus métiers, la data gouvernance, la business science, le reporting, le dashboarding, le data journalisme, la stratégie business.\\nDans notre offre de services, on propose la Création des centres de compétence Analytics, le Cadrage de projet Analytics, le Pilotage projet, la Préparation de données, la Data Visualisation, l''Intégration plateforme Analytics, la Formation, le Support & TMA.\\nNos 3 principales valeurs sont : Excellence, Esprit de corps, Pionnier.\\n\\nVous souhaitez travailler dans une entreprise qui allie l''humain à la data ? \\n\\nRejoignez-nous ! Nous avons hâte de VOUS onboarder. \\n\\nEngagement de Mydral en faveur des personnes en situation de handicap : dans le cadre de la politique de diversité, nous étudions toutes les candidatures en prenant en compte les besoins d’aménagement de poste.\\n\\nQuel est le rôle du Consultant Data Architect chez Mydral ? \\nChez Mydral, le Consultant Data Architect a un rôle majeur dans nos projets clients. Il fait partie de l’équipe Conseil de Christian SCHLICK. Il rejoint l’une de nos BU (finance, retail & service, public & industrie) au sein de laquelle il évolue dans différents périmètres d’activités. Il rejoint une équipe Mydral en mission chez un client, et dans son rôle, il a pour mission : \\n\\nD’agréger les données internes et externes pour ensuite concevoir un moyen de les regrouper et de les organiser ; \\nD’accompagner les projets dans la définition des besoins des collaborateurs métier sur la description et l’usage des données (concepts métiers, exigences métier, usages de la donnée, modèles de données …) ;\\nD''animer la feuille de route data lineage de son périmètre ; \\nDe développer des modèles de données pour les structures de bases de données ; \\nDe dessiner, documenter, construire et déployer des architectures et des applications de base de données ; \\nD’accompagner l’architecte de données SI dans le maintien de la cohérence entre la description métier et la description applicative des données. \\nDe vérifier les fonctionnalités techniques comme la scalabilité, la sécurité, la performance, la data recovery, etc. \\nQuelles sont les compétences à avoir ? \\nMaîtrise des langages SQL et NoSQL ; \\nModéliser, traiter et transformer des données complexes ; \\nConnaissances sur les aspects d’authentification, de sécurité, de containerisation et d’orchestration ; \\nMaitrise des solutions de stockage de données ; \\nConcevoir et déployer une architecture distribuée pour le traitement de données ; \\nCompétences en architecture métier / d’entreprise (architecture processus, fonctionnelle, données métier) ; \\nModélisation informatique (UML) ; \\nAzure, AWS, GCP ; \\nHadoop, Cloudera, Hortonworks ; \\nSpark, Kafka, Suite ELK, Redis ; \\nSQL Server, PostgreSQL, ASE, Oracle ; \\n Tableau ; \\nDocker, Kubernetes ; \\nWindows, Redhat, Linux. \\nQuels sont les soft skills à avoir ? \\nAdaptabilité et Flexibilité ; \\nAnalyse et Synthèse ; \\nCréativité, Sens de l’innovation ; \\nRigueur et Organisation ; \\nSens relationnel ; \\nOrientation client ; \\nTravail et Animation d’équipe. \\nQuel est le profil recherché ?  \\nPassionné de la Data et diplômé d''un BAC+5 en Ecole d’ingénieurs (EISTI, Polytech, Télécom ParisTech, etc.) ; \\n Expérience d’au moins 10 ans dans l’urbanisation des données, la gouvernance, le plan de mise en place de la nouvelle architecture de données dans des projets de Big Data et de BI Agile ; \\nVous pouvez idéalement une expérience sur l’intégration de plateformes techniques Analytics de gestion du cycle de valorisation de la donnée (Knime, Vertica, Snowflake, Tableau) ; \\nVous avez développé un fort sens du service, un bon relationnel avec vos clients et la rigueur nécessaire au succès de vos projets. \\nQu’en est-il de la rémunération et autres avantages ? \\nPackage global de 60 – 75K/an ; \\nMutuelle groupe (Malakoff Humanis) ; \\nCongés annuels à vingt-cinq jours ouvrés de congés, auxquels s’ajoutent 10 jours de récupération (à l’année) ; \\nTickets restaurants valorisés actuellement à 10 € l’unité. Le forfait de transport Navigo est pris en charge à hauteur de 50 % ; \\nRemboursement de 30 euros/mois sur la facture de votre téléphone portable ; \\nOnboarding personnalisé à votre arrivée ; \\nPlan d’évolution avec plusieurs certifications à passer directement auprès des éditeurs de logiciels. \\nSi vous vous reconnaissez dans cette description, n’hésitez pas à postuler ! Nous avons une place pour vous chez Mydral\",\n",
              "  {'entities': [[0, 26, 'titre'],\n",
              "    [21, 26, 'entreprise'],\n",
              "    [44, 49, 'pays'],\n",
              "    [30, 34, 'ville'],\n",
              "    [0, 13, 'metier'],\n",
              "    [1246, 1248, 'contrat'],\n",
              "    [3620, 3625, 'experience'],\n",
              "    [3523, 3527, 'diplome'],\n",
              "    [3929, 3933, 'skills'],\n",
              "    [3936, 3942, 'skills'],\n",
              "    [3945, 3953, 'skills'],\n",
              "    [3039, 3043, 'skills'],\n",
              "    [3046, 3048, 'skills'],\n",
              "    [3058, 3063, 'skills']]}],\n",
              " [\"Data Scientist Senior teale · Paris, Île-de-France, France À propos de l’offre d’emploi À propos\\n\\nComme une majorité de personnes, nous avons été confrontés à des sources d''anxiété et de stress importantes, dans un contexte pro comme perso.\\n\\nLe tabou étant encore largement présent dans l''entreprise, nous nous sommes donnés comme mission de démocratiser la santé mentale pour accompagner les individus et transformer les organisations.\\n\\nC’est pour cette raison que nous avons créé teale, qui est une solution unique en Europe, reposant sur une approche engageante, personnalisée et scientifiquement prouvée.\\n\\nteale a été élue meilleure solution de santé mentale par un collège d''experts, et accompagne aujourd''hui des entreprises de toutes tailles en France et en Europe.\\n\\nDescriptif du poste\\n\\nNous recherchons une personne passionnée par la Data, la Data Analyse et la Data Science. Vous avez déjà plusieurs projets de Data Science à votre actif en production. Vous aimez échanger au quotidien avec l''ensemble des équipes pour mettre en place les meilleures solutions pour nos utilisateurs finaux.\\n\\nL''excellence, l''innovation et l''ambition doivent être des mots qui résonnent en vous. Nous travaillons quotidiennement avec une exigence de qualité élevée car nous sommes pleinement convaincus que la qualité est signe d''efficacité et donc de vitesse.\\n\\nMissions\\n\\nVous définissez avec l''équipe Data et le CTO la stratégie de développement pour la Data Science\\nVous conduisez des études selon une méthodologie stricte avant tout lancement de projet\\nVous tenez à jour une base de connaissance de la Data exploitable pour la Data Science en interne et en externe\\nVous automatisez avec le support des équipes de développement la collecte des données et leur traitement\\nVous entraînez des modèles selon une norme établie et mesurez leurs performances, version après version\\nVous savez mesurer la performance d''un modèle une fois déployé en production\\nVous savez présenter vos résultats en utilisant les visualisations les plus adaptées\\n\\nProfil recherché\\n\\nExpériences Et Compétences\\n\\n>3 années d’expérience significative en Data Analyse puis en Data Science\\nVous êtes autonome dans l''exploration de données: structurées et non structurées\\nVous connaissez les principes sous-jacents au Machine Learning\\nVous êtes autonome dans l''utilisation des outils de Business Intelligence\\nVous avez un esprit analytique et savez déconstruire votre pensée pour mettre en place les bons procédés de traitement\\nVous avez une sensibilité forte pour le business\\nVous êtes orienté résultat\\nExcellentes qualités de communications (orales et rédactionnelles, en français et en anglais)\\nValeurs: audace, humilité, sincérité bienveillante\",\n",
              "  {'entities': [[0, 26, 'titre'],\n",
              "    [22, 26, 'entreprise'],\n",
              "    [44, 49, 'pays'],\n",
              "    [30, 34, 'ville'],\n",
              "    [0, 13, 'metier'],\n",
              "    [2089, 2109, 'experience'],\n",
              "    [2290, 2305, 'skills'],\n",
              "    [2360, 2380, 'skills']]}],\n",
              " [\"Data Analyst H/F Harry Hope. · Nancy, Grand Est, France À propos de l’offre d’emploi Cette offre d’emploi provient d’un site d’offres d’emploi. En savoir plusHarry Hope, cabinet de recrutement accompagne candidats et entreprises dans leurs recherches des meilleures opportunités en France et à l''international. Afin de mieux répondre à vos enjeux, tous nos consultants sont spécialisés par secteur d''activité et zone géographique.\\n\\nJean, consultant spécialisé sur les métiers de l''IT sur la lorraine au sein du cabinet\\nde recrutement Harry Hope accompagne les candidats dans leurs recherches\\nd''une meilleure opportunité professionnelle sur leur secteur géographique\\nprivilégié. Nous ne sommes pas une ESN, nous intervenons dans la mise en\\nrelation avec des clients finaux sur des postes en CDI. Notre client, un acteur\\nmajeur du bassin nancéen, recherche un DATA Analyst (H/F) pour compléter son équipe IT.\\n\\nDescription Du Poste\\n\\nDirectement rattaché à la direction informatique de la structure, vous aurez pour\\nprincipale mission de trouver des leviers permettant d''optimiser les process\\nmétiers à partir des données à votre disposition. En ce sens, vous intervenez sur :\\nle traitement des données depuis des sources de BDD (MariaDB, PostgreSQL,\\nMSSQL), la gestion des outils d''analyse pour la direction permettant de suivre\\nl''évolution de leurs produits (Qlick), la création de Dashboard et mise en place de\\nKPIs / reporting des performances, la mise en place de process/requêtes et\\nautomatisations. Vous travaillez en collaboration avec les différentes équipes\\ntechniques ainsi que les équipes métiers afin d''apporter une réponse au plus\\nproche du besoin. Enfin, vous assurez une veille technologique constante afin\\nd''améliorer l''analyse de données grâce à de nouveaux outils.\\n\\nIdéalement diplômé en informatique, vous disposez d''une expérience confirmée\\nà un poste similaire. Passionné par les données, vous cherchez naturellement à\\noptimiser vos missions quotidiennes et vous disposez d''un excellent relationnel\\npermettant des échanges constructifs entre les équipes. Humainement, vous êtes\\nreconnu pour votre dynamisme et votre sérieux.\\n\\nInformations complémentaires : Salaire selon profil et expériences (35/45kEUR), CDI\\n35h à pouvoir rapidement à Nancy.\\n\\nSi cette opportunité correspond à vos aspirations professionnelles alors faites-moi\\nparvenir votre candidature. J''étudierai cette dernière et reviendrai vers vous dans\\nles meilleurs délais pour un suivi personnalisé de votre profil !\",\n",
              "  {'entities': [[0, 26, 'titre'],\n",
              "    [17, 26, 'entreprise'],\n",
              "    [49, 54, 'pays'],\n",
              "    [31, 35, 'ville'],\n",
              "    [0, 11, 'metier'],\n",
              "    [794, 796, 'contrat'],\n",
              "    [1844, 1867, 'experience'],\n",
              "    [1802, 1824, 'diplome'],\n",
              "    [1226, 1228, 'skills'],\n",
              "    [1387, 1395, 'skills']]}],\n",
              " [\"Développeur Python Embarqué H/F Eays Consulting · Saint-Germain-de-la-Grange, Île-de-France, France À propos de l’offre d’emploi EAYS Consulting est une Entreprise de Service Numérique qui accompagne les grandes\\nentreprises et les opérateurs télécoms dans l''ingénierie de leurs produits et le déploiement de\\nleurs projets Télécom et IT.\\n\\nLe Poste\\n\\nContexte de la mission :\\n\\nDans le cadre du renforcement de nos équipes de consultants, afin de répondre aux besoins de nos clients, nous recrutons développeurs Python Embarqué.\\n\\nDescriptif De La Mission\\n\\nEn tant qu''Ingénieur Développement Logiciel Embarqué Python, vous serez responsable de la conception, du développement et du test du produit logiciel ''EMS embarqué'' sur base PC Linux, ainsi que sur les plates-formes cloud Microsoft Azure et AWS. Vous collaborerez avec les équipes de R&D Power pour participer aux choix d''architecture, tant pour les systèmes embarqués que pour le cloud, du logiciel ''EMS''. Vous contribuerez également à la mise en place des outils et de l''environnement de travail requis pour le développement.\\n\\nLivrables\\n\\n Conception et développement du produit logiciel ''EMS embarqué'' en utilisant Python sous environnement Linux.\\n Déploiement des composants dans le cloud Microsoft Azure et AWS.\\n Développement de composants web back-end à l''aide des outils Flask et Tornado.\\n Intégration de bases de données MongoDB et mise en place des protocoles de communication Modbus TCP.\\n Participation à la veille technologique pour rester à jour avec les avancées du secteur.\\n\\nProfil\\n\\nExpertise souhaitée :\\n\\nLe prestataire sélectionné devra démontrer les compétences et l''expertise suivantes :\\n\\n Excellentes compétences en développement logiciel, avec une grande maîtrise de Python sous environnement Linux.\\n Expérience dans le développement et le déploiement de composants dans les plates-formes cloud Microsoft Azure et AWS.\\n Maîtrise des outils Flask et Tornado pour le développement web back-end.\\n Bonne connaissance des bases de données, en particulier MongoDB, et des protocoles de communication tels que Modbus TCP.\\n Familiarité avec l''environnement de développement Azure DevOps et GitHub.\\n Compétences en ingénierie en mathématiques appliquées, modélisation d''algorithmes, création d''interfaces web, et connaissance des métiers de l''énergie seront un plus.\\n Curiosité et capacité à proposer des solutions innovantes.\\n Bonnes compétences relationnelles pour travailler efficacement avec les autres équipes de la R&D Power.\\n Bon niveau d''anglais pour communiquer avec des collègues internationaux.\\n Une expertise prouvée dans le domaine avec au moins 5 années d''expérience.\\n\\nNous recherchons un candidat motivé, dynamique et compétent, capable de contribuer de manière significative à notre équipe de développement logiciel embarqué. Si vous répondez aux critères ci-dessus et que vous êtes prêt à relever de nouveaux défis, nous attendons votre candidature avec impatience.\",\n",
              "  {'entities': [[0, 46, 'titre'],\n",
              "    [32, 46, 'entreprise'],\n",
              "    [85, 90, 'pays'],\n",
              "    [50, 62, 'ville'],\n",
              "    [0, 17, 'metier'],\n",
              "    [2639, 2646, 'experience'],\n",
              "    [1802, 1824, 'diplome'],\n",
              "    [1699, 1720, 'skills'],\n",
              "    [1179, 1184, 'skills'],\n",
              "    [797, 799, 'skills'],\n",
              "    [1949, 1974, 'skills'],\n",
              "    [2034, 2040, 'skills'],\n",
              "    [2157, 2162, 'skills']]}]]"
            ]
          },
          "metadata": {},
          "execution_count": 10
        }
      ]
    },
    {
      "cell_type": "code",
      "source": [
        "def get_spacy_doc(file,data):\n",
        "  nlp=spacy.blank('fr')\n",
        "  db=DocBin()\n",
        "  for text,annot in tqdm(data):\n",
        "    doc=nlp.make_doc(text)\n",
        "    annot=annot['entities']\n",
        "\n",
        "    ents=[]\n",
        "    entity_indices=[]\n",
        "    for start,end,label in annot:\n",
        "      skip_entity=False\n",
        "      for idx in range(start,end):\n",
        "        if idx in entity_indices:\n",
        "          skip_entity=True\n",
        "          break\n",
        "      if skip_entity==True:\n",
        "          continue\n",
        "      entity_indices=entity_indices+list(range(start,end))\n",
        "      try:\n",
        "        span=doc.char_span(start,end,label=label,alignment_mode='contract')\n",
        "      except:\n",
        "        continue\n",
        "      if span is None:\n",
        "        err_data=str([start,end])+\" \"+str(text)+\"\\n\"\n",
        "        file.write(err_data)\n",
        "      else:\n",
        "        ents.append(span)\n",
        "    try:\n",
        "      doc.ents=ents\n",
        "      db.add(doc)\n",
        "    except:\n",
        "      pass\n",
        "  return db\n"
      ],
      "metadata": {
        "id": "eZ7Cz7q2B5Nu"
      },
      "execution_count": 11,
      "outputs": []
    },
    {
      "cell_type": "code",
      "source": [
        "from sklearn.model_selection import train_test_split\n",
        "train,test=train_test_split(cv_data,test_size=0.1)"
      ],
      "metadata": {
        "id": "eGKo1yrHCCeu"
      },
      "execution_count": 12,
      "outputs": []
    },
    {
      "cell_type": "code",
      "source": [
        "len(train),len(test)"
      ],
      "metadata": {
        "colab": {
          "base_uri": "https://localhost:8080/"
        },
        "id": "pgcpvXfhCHjy",
        "outputId": "61c44858-3da3-4f14-b5c9-82b13754b84d"
      },
      "execution_count": 13,
      "outputs": [
        {
          "output_type": "execute_result",
          "data": {
            "text/plain": [
              "(19, 3)"
            ]
          },
          "metadata": {},
          "execution_count": 13
        }
      ]
    },
    {
      "cell_type": "code",
      "source": [
        "file=open('error.txt','w')\n",
        "db=get_spacy_doc(file,train)\n",
        "db.to_disk('train_data.spacy')\n",
        "\n",
        "db=get_spacy_doc(file,test)\n",
        "db.to_disk('test_data.spacy')\n",
        "\n",
        "file.close()"
      ],
      "metadata": {
        "colab": {
          "base_uri": "https://localhost:8080/"
        },
        "id": "j0zPMdfHCJ1I",
        "outputId": "fa23019f-a6ec-4013-cc60-86b4006548e7"
      },
      "execution_count": 14,
      "outputs": [
        {
          "output_type": "stream",
          "name": "stderr",
          "text": [
            "100%|██████████| 19/19 [00:00<00:00, 116.45it/s]\n",
            "100%|██████████| 3/3 [00:00<00:00, 55.58it/s]\n"
          ]
        }
      ]
    },
    {
      "cell_type": "code",
      "source": [
        "!python -m spacy train /content/data/training/config.cfg --output ./output --paths.train ./train_data.spacy --paths.dev ./test_data.spacy --gpu-id 0\n"
      ],
      "metadata": {
        "colab": {
          "base_uri": "https://localhost:8080/"
        },
        "id": "vBA4rKltCNDd",
        "outputId": "90100ebe-f572-4d21-b44d-c8566ac41aa2"
      },
      "execution_count": 15,
      "outputs": [
        {
          "output_type": "stream",
          "name": "stdout",
          "text": [
            "2023-09-05 17:11:08.243434: W tensorflow/compiler/tf2tensorrt/utils/py_utils.cc:38] TF-TRT Warning: Could not find TensorRT\n",
            "\u001b[38;5;2m✔ Created output directory: output\u001b[0m\n",
            "\u001b[38;5;4mℹ Saving to output directory: output\u001b[0m\n",
            "\u001b[38;5;4mℹ Using GPU: 0\u001b[0m\n",
            "\u001b[1m\n",
            "=========================== Initializing pipeline ===========================\u001b[0m\n",
            "Downloading (…)lve/main/config.json: 100% 481/481 [00:00<00:00, 2.53MB/s]\n",
            "Downloading (…)olve/main/vocab.json: 100% 899k/899k [00:00<00:00, 4.50MB/s]\n",
            "Downloading (…)olve/main/merges.txt: 100% 456k/456k [00:00<00:00, 3.47MB/s]\n",
            "Downloading (…)/main/tokenizer.json: 100% 1.36M/1.36M [00:00<00:00, 5.07MB/s]\n",
            "Downloading model.safetensors: 100% 499M/499M [00:02<00:00, 169MB/s]\n",
            "Some weights of the model checkpoint at roberta-base were not used when initializing RobertaModel: ['lm_head.layer_norm.weight', 'lm_head.dense.bias', 'lm_head.bias', 'lm_head.dense.weight', 'lm_head.layer_norm.bias']\n",
            "- This IS expected if you are initializing RobertaModel from the checkpoint of a model trained on another task or with another architecture (e.g. initializing a BertForSequenceClassification model from a BertForPreTraining model).\n",
            "- This IS NOT expected if you are initializing RobertaModel from the checkpoint of a model that you expect to be exactly identical (initializing a BertForSequenceClassification model from a BertForSequenceClassification model).\n",
            "Some weights of RobertaModel were not initialized from the model checkpoint at roberta-base and are newly initialized: ['roberta.pooler.dense.weight', 'roberta.pooler.dense.bias']\n",
            "You should probably TRAIN this model on a down-stream task to be able to use it for predictions and inference.\n",
            "\u001b[38;5;2m✔ Initialized pipeline\u001b[0m\n",
            "\u001b[1m\n",
            "============================= Training pipeline =============================\u001b[0m\n",
            "\u001b[38;5;4mℹ Pipeline: ['transformer', 'ner']\u001b[0m\n",
            "\u001b[38;5;4mℹ Initial learn rate: 0.0\u001b[0m\n",
            "E    #       LOSS TRANS...  LOSS NER  ENTS_F  ENTS_P  ENTS_R  SCORE \n",
            "---  ------  -------------  --------  ------  ------  ------  ------\n",
            "  0       0        8676.89   1204.24    0.23    0.12   15.38    0.00\n",
            " 20     100      352066.75  50455.64    0.00    0.00    0.00    0.00\n",
            " 40     200      103304.86   5838.84    0.00    0.00    0.00    0.00\n",
            " 60     300       66920.00   4578.88   21.05   33.33   15.38    0.21\n",
            " 80     400       19070.39   1400.10   11.76   25.00    7.69    0.12\n",
            "100     500         394.68    172.54   21.05   33.33   15.38    0.21\n",
            "120     600         123.06    115.88   21.05   33.33   15.38    0.21\n",
            "140     700          14.71    104.10   11.76   25.00    7.69    0.12\n",
            "160     800           0.36    100.82   22.22   40.00   15.38    0.22\n",
            "180     900           0.24     98.12   11.76   25.00    7.69    0.12\n",
            "200    1000           0.01     97.51   22.22   40.00   15.38    0.22\n",
            "\n",
            "\u001b[31mAborted.\u001b[0m\n"
          ]
        }
      ]
    },
    {
      "cell_type": "code",
      "source": [
        "nlp=spacy.load('/content/output/model-best')"
      ],
      "metadata": {
        "id": "tFuQgGFHCbQ5"
      },
      "execution_count": 16,
      "outputs": []
    },
    {
      "cell_type": "code",
      "source": [
        "doc=nlp(\"Développement WEB FISH EYE TECHNOLOGIES · Paris, Île-de-France, France À propos de l’offre d’emploi Cette offre d’emploi\")\n",
        "for ent in doc.ents:\n",
        "  print(ent.text,\" == \",ent.label_)"
      ],
      "metadata": {
        "colab": {
          "base_uri": "https://localhost:8080/"
        },
        "id": "yC4VAS6RZ9QB",
        "outputId": "48646051-affe-4b2d-aee6-7f077f9e3a69"
      },
      "execution_count": 17,
      "outputs": [
        {
          "output_type": "stream",
          "name": "stdout",
          "text": [
            "Développement WEB FISH EYE  ==  titre\n"
          ]
        }
      ]
    },
    {
      "cell_type": "code",
      "source": [
        "!pip install PyMuPDF"
      ],
      "metadata": {
        "colab": {
          "base_uri": "https://localhost:8080/"
        },
        "id": "gkU-AM4SaHJc",
        "outputId": "8a313acb-b03a-477d-b5a8-120b9e719b5b"
      },
      "execution_count": 18,
      "outputs": [
        {
          "output_type": "stream",
          "name": "stdout",
          "text": [
            "Collecting PyMuPDF\n",
            "  Downloading PyMuPDF-1.23.3-cp310-none-manylinux2014_x86_64.whl (4.3 MB)\n",
            "\u001b[2K     \u001b[90m━━━━━━━━━━━━━━━━━━━━━━━━━━━━━━━━━━━━━━━━\u001b[0m \u001b[32m4.3/4.3 MB\u001b[0m \u001b[31m13.0 MB/s\u001b[0m eta \u001b[36m0:00:00\u001b[0m\n",
            "\u001b[?25hCollecting PyMuPDFb==1.23.3 (from PyMuPDF)\n",
            "  Downloading PyMuPDFb-1.23.3-py3-none-manylinux2014_x86_64.manylinux_2_17_x86_64.whl (30.6 MB)\n",
            "\u001b[2K     \u001b[90m━━━━━━━━━━━━━━━━━━━━━━━━━━━━━━━━━━━━━━━━\u001b[0m \u001b[32m30.6/30.6 MB\u001b[0m \u001b[31m29.4 MB/s\u001b[0m eta \u001b[36m0:00:00\u001b[0m\n",
            "\u001b[?25hInstalling collected packages: PyMuPDFb, PyMuPDF\n",
            "Successfully installed PyMuPDF-1.23.3 PyMuPDFb-1.23.3\n"
          ]
        }
      ]
    },
    {
      "cell_type": "code",
      "source": [
        "import sys,fitz"
      ],
      "metadata": {
        "id": "69vFM5qtaN_K"
      },
      "execution_count": 19,
      "outputs": []
    },
    {
      "cell_type": "code",
      "source": [
        "fname=\"/content/data/test/job offer2.pdf\"\n",
        "doc=fitz.open(fname)"
      ],
      "metadata": {
        "id": "4xuJ3JB2aSEd"
      },
      "execution_count": 20,
      "outputs": []
    },
    {
      "cell_type": "code",
      "source": [
        "doc=[page for page in doc]"
      ],
      "metadata": {
        "id": "3lPmiIiXacKv"
      },
      "execution_count": 21,
      "outputs": []
    },
    {
      "cell_type": "code",
      "source": [
        "try:\n",
        "    doc = fitz.open(fname)\n",
        "    text = \" \"\n",
        "    for page in doc:\n",
        "        text = text + str(page.get_text())\n",
        "    doc.close()\n",
        "except Exception as e:\n",
        "    print(f\"An error occurred: {e}\")"
      ],
      "metadata": {
        "id": "oQp4RAZvagLM"
      },
      "execution_count": 22,
      "outputs": []
    },
    {
      "cell_type": "code",
      "source": [
        "text=text.strip()"
      ],
      "metadata": {
        "id": "ZoOjGMkuaieS"
      },
      "execution_count": 23,
      "outputs": []
    },
    {
      "cell_type": "code",
      "source": [
        "text=text.replace(\"\\n\",\" \")"
      ],
      "metadata": {
        "id": "DIx8nK_QalLO"
      },
      "execution_count": 24,
      "outputs": []
    },
    {
      "cell_type": "code",
      "source": [
        "text"
      ],
      "metadata": {
        "colab": {
          "base_uri": "https://localhost:8080/",
          "height": 124
        },
        "id": "A2vzyuK5anrt",
        "outputId": "4539596c-1289-46c5-c9e4-f9df4b3c495c"
      },
      "execution_count": 25,
      "outputs": [
        {
          "output_type": "execute_result",
          "data": {
            "text/plain": [
              "\"'Analyste développeur (H/F)  Eotim · Paris, Île-de-France, France (Hybride) À propos de l’offre d’emploi  Depuis 2001, Eotim est le leader du recrutement spécialisé en informatique et en marque  employeur. Nous accompagnons nos partenaires et nos clients dans leur croissance avec une  approche 100% sur-mesure. En parallèle et avec notre équipe de communication / marketing RH,  nous développons des solutions de gestion de la marque employeur. Présents en France, à Paris et  Caen, et à Lisbonne au Portugal, nous entretenons également des liens avec les États-Unis, le  Royaume-Uni et l''Australie pour accompagner nos clients internationaux. Nous cultivons un esprit  familial et une forte cohésion d''équipe au sein de notre entreprise. De ce fait, nous attachons  beaucoup d''importance à l''investissement humain, à l''humilité et veillons à effectuer un suivi  personnalisé et de qualité durant chacune de nos missions.      À PROPOS :      Réel accompagnateur des personnes en difficultés, notre client s''investit auprès de l''accès au  logement pour les publics qui en sont éloignés. Les valeurs sociales et humaines sont centrales pour  eux. Ils interviennent dans des environnements sociaux aux problématiques complexes afin de  proposer des solutions de logement.      Ils ont donc besoin d''un(e) analyste développeur PHP afin d''assurer l''évolution et la maintenance  des applications métiers.      LE POSTE :      Au sein du Po^le Etudes, vous serez charge´ de la maintenance des applications me´tiers et  contribuerez sous la responsabilite´ du chef de projet, a` certaines phases des projets de la direction  telle que :       Cadrage des projets   Conception, de´veloppement et documentation des solutions   Mise en qualite´ des solutions (recettes techniques et fonctionnelles, support aux recettes  utilisateurs)   De´ploiement des solutions (mises en production, re´daction de support de formation, suivi post  mise en production et transfert aux e´quipes d''exploitation et de support de niveau 1 et 2).    Une e´volution vers un poste de Chef de Projet informatique est possible      Avantages liés au poste :       Primes   Épargne salariale      VOTRE PROFIL :      Vous justifiez au minimum d''une expe´rience re´ussie de 3 ans en de´veloppement.      Vous e^tes rigoureux(se), organise´(e) et posse´dez un excellent sens de l''observation et de  l''analyse.      Vous partagez les valeurs humaines et sociales de notre client et savez communique´ avec les  e´quipes.      STACK TECHNIQUE :       Vous maitrisez SQL et PHP   Vous maitrisez ou e^tes capable d''apprendre rapidement des langages de de´veloppement,  frameworks et outils (Symfony/ Doctrine, ReactJS, Jenkins, Git, MariaDB, Talend). 17112185-55584'\""
            ],
            "application/vnd.google.colaboratory.intrinsic+json": {
              "type": "string"
            }
          },
          "metadata": {},
          "execution_count": 25
        }
      ]
    },
    {
      "cell_type": "code",
      "source": [
        "doc=nlp(text)\n",
        "for ent in doc.ents:\n",
        "  print(ent.text,\" == \",ent.label_)"
      ],
      "metadata": {
        "colab": {
          "base_uri": "https://localhost:8080/"
        },
        "id": "RV9jYCGCap8Q",
        "outputId": "7506c19f-ffa1-4ca1-e5ea-9049c82f4c18"
      },
      "execution_count": 26,
      "outputs": [
        {
          "output_type": "stream",
          "name": "stdout",
          "text": [
            "'Analyste développeur (H/F)  ==  titre\n",
            "3  ==  experience\n",
            "Symfony/  ==  skills\n"
          ]
        }
      ]
    },
    {
      "cell_type": "code",
      "source": [
        "output_dir = '/content/saved_model'\n",
        "\n",
        "# Load the trained model\n",
        "nlp = spacy.load('/content/output/model-best')\n",
        "\n",
        "# Save the model to the specified directory\n",
        "nlp.to_disk(output_dir)"
      ],
      "metadata": {
        "id": "SYhbA5LAatl5"
      },
      "execution_count": 27,
      "outputs": []
    },
    {
      "cell_type": "code",
      "source": [],
      "metadata": {
        "id": "rAMisAXyeaFr"
      },
      "execution_count": null,
      "outputs": []
    }
  ]
}